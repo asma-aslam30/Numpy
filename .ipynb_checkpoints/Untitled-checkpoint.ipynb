{
 "cells": [
  {
   "cell_type": "code",
   "execution_count": 24,
   "id": "a5cbf4b3-c669-4d02-952e-872120f286d9",
   "metadata": {},
   "outputs": [],
   "source": [
    "import numpy as np\n"
   ]
  },
  {
   "cell_type": "code",
   "execution_count": 25,
   "id": "e70b4af5-364d-418e-b2c1-2d968c2f98e6",
   "metadata": {},
   "outputs": [
    {
     "name": "stdout",
     "output_type": "stream",
     "text": [
      "hello world\n"
     ]
    }
   ],
   "source": [
    "print(\"hello world\")"
   ]
  },
  {
   "cell_type": "code",
   "execution_count": 26,
   "id": "bd4e36d0-53b9-4bdd-b885-920314c224b8",
   "metadata": {},
   "outputs": [],
   "source": [
    "myarray=np.array([[3,8,6,98,67]],np.int64)"
   ]
  },
  {
   "cell_type": "code",
   "execution_count": 27,
   "id": "ba14c2d6-5dad-4851-9ea6-f1bf91c2f760",
   "metadata": {},
   "outputs": [
    {
     "data": {
      "text/plain": [
       "8"
      ]
     },
     "execution_count": 27,
     "metadata": {},
     "output_type": "execute_result"
    }
   ],
   "source": [
    "myarray[0, 1]"
   ]
  },
  {
   "cell_type": "code",
   "execution_count": 28,
   "id": "441ce6a9-3cf9-433b-b129-82e00a6391aa",
   "metadata": {},
   "outputs": [
    {
     "data": {
      "text/plain": [
       "(1, 5)"
      ]
     },
     "execution_count": 28,
     "metadata": {},
     "output_type": "execute_result"
    }
   ],
   "source": [
    "myarray.shape"
   ]
  },
  {
   "cell_type": "code",
   "execution_count": 29,
   "id": "9ccef926-13cc-469d-9fd6-bea007c2fe90",
   "metadata": {},
   "outputs": [
    {
     "data": {
      "text/plain": [
       "dtype('int64')"
      ]
     },
     "execution_count": 29,
     "metadata": {},
     "output_type": "execute_result"
    }
   ],
   "source": [
    "myarray.dtype"
   ]
  },
  {
   "cell_type": "code",
   "execution_count": 30,
   "id": "2d20df09-afaf-49ea-aee1-17b9ab602ba8",
   "metadata": {},
   "outputs": [],
   "source": [
    "myarray[0, 1]=45"
   ]
  },
  {
   "cell_type": "code",
   "execution_count": 31,
   "id": "a96579d9-47f1-4830-a7ff-ec78c8c93f81",
   "metadata": {},
   "outputs": [
    {
     "data": {
      "text/plain": [
       "array([[ 3, 45,  6, 98, 67]], dtype=int64)"
      ]
     },
     "execution_count": 31,
     "metadata": {},
     "output_type": "execute_result"
    }
   ],
   "source": [
    "myarray"
   ]
  },
  {
   "cell_type": "code",
   "execution_count": 9,
   "id": "3951528d-a532-4803-8c4d-11d754117780",
   "metadata": {},
   "outputs": [],
   "source": [
    "#Array Creation:Conversion from other Python structures "
   ]
  },
  {
   "cell_type": "code",
   "execution_count": 32,
   "id": "5e06f370-c126-4083-a5cb-e1eeeab1c1cc",
   "metadata": {},
   "outputs": [],
   "source": [
    "list_array=np.array([[1,2,3,],[2,3,54],[3,45,34]])"
   ]
  },
  {
   "cell_type": "code",
   "execution_count": 33,
   "id": "7decd79d-7aca-408c-809b-f2f675def3b4",
   "metadata": {},
   "outputs": [
    {
     "data": {
      "text/plain": [
       "array([[ 1,  2,  3],\n",
       "       [ 2,  3, 54],\n",
       "       [ 3, 45, 34]])"
      ]
     },
     "execution_count": 33,
     "metadata": {},
     "output_type": "execute_result"
    }
   ],
   "source": [
    "list_array"
   ]
  },
  {
   "cell_type": "code",
   "execution_count": 34,
   "id": "2c80b72f-1e49-4ce5-9b97-2c6b58de6282",
   "metadata": {},
   "outputs": [
    {
     "data": {
      "text/plain": [
       "dtype('int32')"
      ]
     },
     "execution_count": 34,
     "metadata": {},
     "output_type": "execute_result"
    }
   ],
   "source": [
    "list_array.dtype"
   ]
  },
  {
   "cell_type": "code",
   "execution_count": 35,
   "id": "1ef36a89-d41a-44b8-8b6d-9cedc97b2d4d",
   "metadata": {},
   "outputs": [
    {
     "data": {
      "text/plain": [
       "9"
      ]
     },
     "execution_count": 35,
     "metadata": {},
     "output_type": "execute_result"
    }
   ],
   "source": [
    "list_array.size"
   ]
  },
  {
   "cell_type": "code",
   "execution_count": 36,
   "id": "46515f01-2ebb-4b1f-98c5-f0522f198473",
   "metadata": {},
   "outputs": [
    {
     "data": {
      "text/plain": [
       "(3, 3)"
      ]
     },
     "execution_count": 36,
     "metadata": {},
     "output_type": "execute_result"
    }
   ],
   "source": [
    "list_array.shape"
   ]
  },
  {
   "cell_type": "code",
   "execution_count": 37,
   "id": "2ce8e88b-2a8a-418b-acd9-a9a3c301ac1d",
   "metadata": {},
   "outputs": [],
   "source": [
    "list_array[0]=[3,2,1]"
   ]
  },
  {
   "cell_type": "code",
   "execution_count": 38,
   "id": "19ace275-c9a2-4cbd-ae9f-3d463a607592",
   "metadata": {},
   "outputs": [
    {
     "data": {
      "text/plain": [
       "array([[ 3,  2,  1],\n",
       "       [ 2,  3, 54],\n",
       "       [ 3, 45, 34]])"
      ]
     },
     "execution_count": 38,
     "metadata": {},
     "output_type": "execute_result"
    }
   ],
   "source": [
    "list_array"
   ]
  },
  {
   "cell_type": "code",
   "execution_count": 17,
   "id": "c61184a1-b79e-4f04-9bdb-9bb513e939f4",
   "metadata": {},
   "outputs": [],
   "source": [
    "list_array[1][2]=4"
   ]
  },
  {
   "cell_type": "code",
   "execution_count": 39,
   "id": "cc93cbd7-1790-48c9-9d47-3a70962ef98d",
   "metadata": {},
   "outputs": [
    {
     "data": {
      "text/plain": [
       "array([[ 3,  2,  1],\n",
       "       [ 2,  3, 54],\n",
       "       [ 3, 45, 34]])"
      ]
     },
     "execution_count": 39,
     "metadata": {},
     "output_type": "execute_result"
    }
   ],
   "source": [
    "list_array"
   ]
  },
  {
   "cell_type": "code",
   "execution_count": 40,
   "id": "cd60e83f-73a3-4ad3-aac6-773d73b892d6",
   "metadata": {},
   "outputs": [
    {
     "data": {
      "text/plain": [
       "array({34, 20, 23}, dtype=object)"
      ]
     },
     "execution_count": 40,
     "metadata": {},
     "output_type": "execute_result"
    }
   ],
   "source": [
    "np.array({34,20,23})  #set h y"
   ]
  },
  {
   "cell_type": "code",
   "execution_count": 44,
   "id": "e373acb5-da7d-4b76-83a7-1bab928c82f3",
   "metadata": {},
   "outputs": [],
   "source": [
    "z=np.zeros((2,5))"
   ]
  },
  {
   "cell_type": "code",
   "execution_count": 45,
   "id": "8d2e0f16-7575-4ae4-a187-60df1b053032",
   "metadata": {},
   "outputs": [
    {
     "data": {
      "text/plain": [
       "array([[0., 0., 0., 0., 0.],\n",
       "       [0., 0., 0., 0., 0.]])"
      ]
     },
     "execution_count": 45,
     "metadata": {},
     "output_type": "execute_result"
    }
   ],
   "source": [
    "z"
   ]
  },
  {
   "cell_type": "code",
   "execution_count": 47,
   "id": "99fe7cb5-aa58-4f8d-b9c3-d176adf6d1a2",
   "metadata": {},
   "outputs": [
    {
     "data": {
      "text/plain": [
       "(2, 5)"
      ]
     },
     "execution_count": 47,
     "metadata": {},
     "output_type": "execute_result"
    }
   ],
   "source": [
    "z.shape"
   ]
  },
  {
   "cell_type": "code",
   "execution_count": 48,
   "id": "40a21233-2bfe-4443-bab8-9633673056e1",
   "metadata": {},
   "outputs": [
    {
     "data": {
      "text/plain": [
       "10"
      ]
     },
     "execution_count": 48,
     "metadata": {},
     "output_type": "execute_result"
    }
   ],
   "source": [
    "z.size"
   ]
  },
  {
   "cell_type": "code",
   "execution_count": 49,
   "id": "6e34c8a9-3a92-4f7f-a14c-c0b9d2ef6654",
   "metadata": {},
   "outputs": [],
   "source": [
    "z[1][2]=3"
   ]
  },
  {
   "cell_type": "code",
   "execution_count": 50,
   "id": "dae50b9a-d26c-4416-909a-1a5846a884e8",
   "metadata": {},
   "outputs": [
    {
     "data": {
      "text/plain": [
       "array([[0., 0., 0., 0., 0.],\n",
       "       [0., 0., 3., 0., 0.]])"
      ]
     },
     "execution_count": 50,
     "metadata": {},
     "output_type": "execute_result"
    }
   ],
   "source": [
    "z"
   ]
  },
  {
   "cell_type": "code",
   "execution_count": 51,
   "id": "310309a3-cc68-46c3-923a-b1d48ab876ca",
   "metadata": {},
   "outputs": [
    {
     "data": {
      "text/plain": [
       "array([ 0,  1,  2,  3,  4,  5,  6,  7,  8,  9, 10, 11, 12, 13, 14])"
      ]
     },
     "execution_count": 51,
     "metadata": {},
     "output_type": "execute_result"
    }
   ],
   "source": [
    "np.arange(15)"
   ]
  },
  {
   "cell_type": "code",
   "execution_count": 160,
   "id": "d9011fb8-a10e-429f-a3a1-1ea672725ab3",
   "metadata": {},
   "outputs": [],
   "source": [
    " ls=np.linspace(1,50,10)"
   ]
  },
  {
   "cell_type": "code",
   "execution_count": 161,
   "id": "c1f7a338-dc90-4c05-85ef-4d174f0fb620",
   "metadata": {},
   "outputs": [
    {
     "data": {
      "text/plain": [
       "array([ 1.        ,  6.44444444, 11.88888889, 17.33333333, 22.77777778,\n",
       "       28.22222222, 33.66666667, 39.11111111, 44.55555556, 50.        ])"
      ]
     },
     "execution_count": 161,
     "metadata": {},
     "output_type": "execute_result"
    }
   ],
   "source": [
    "ls"
   ]
  },
  {
   "cell_type": "code",
   "execution_count": 62,
   "id": "38cfd72e-a6f0-44a2-92a5-84d788f78e96",
   "metadata": {},
   "outputs": [],
   "source": [
    " emp=np.empty((4,6))\n"
   ]
  },
  {
   "cell_type": "code",
   "execution_count": 63,
   "id": "23da006a-05c9-4f0b-8f86-c64252ce95df",
   "metadata": {},
   "outputs": [
    {
     "data": {
      "text/plain": [
       "array([[6.23042070e-307, 1.86918699e-306, 1.69121096e-306,\n",
       "        1.29062093e-306, 1.69118787e-306, 6.23057688e-307],\n",
       "       [8.90105597e-307, 6.23053614e-307, 7.56592338e-307,\n",
       "        1.60220528e-306, 7.56602523e-307, 1.42417221e-306],\n",
       "       [1.37961641e-306, 2.22522597e-306, 1.33511969e-306,\n",
       "        6.23037317e-307, 6.23053954e-307, 9.34609790e-307],\n",
       "       [8.45593934e-307, 9.34600963e-307, 1.86921143e-306,\n",
       "        6.23061763e-307, 1.33511562e-306, 6.89805151e-307]])"
      ]
     },
     "execution_count": 63,
     "metadata": {},
     "output_type": "execute_result"
    }
   ],
   "source": [
    "emp"
   ]
  },
  {
   "cell_type": "code",
   "execution_count": 210,
   "id": "b6de4e33-13d9-417f-b1fd-d8a6545d2d1b",
   "metadata": {},
   "outputs": [],
   "source": [
    "emp_like=np.empty_like()"
   ]
  },
  {
   "cell_type": "code",
   "execution_count": 211,
   "id": "1dd828e7-2a08-4b2e-a984-a401073b9bfb",
   "metadata": {},
   "outputs": [
    {
     "data": {
      "text/plain": [
       "array([[6.23042070e-307, 1.86918699e-306, 1.69121096e-306,\n",
       "        1.29062093e-306, 1.69118787e-306, 6.23057688e-307],\n",
       "       [8.90105597e-307, 6.23053614e-307, 7.56592338e-307,\n",
       "        1.60220528e-306, 7.56602523e-307, 1.42417221e-306],\n",
       "       [1.37961641e-306, 2.22522597e-306, 1.33511969e-306,\n",
       "        6.23037317e-307, 6.23053954e-307, 9.34609790e-307],\n",
       "       [8.45593934e-307, 9.34600963e-307, 1.86921143e-306,\n",
       "        6.23061763e-307, 1.33511562e-306, 6.89805151e-307]])"
      ]
     },
     "execution_count": 211,
     "metadata": {},
     "output_type": "execute_result"
    }
   ],
   "source": [
    "emp_like"
   ]
  },
  {
   "cell_type": "code",
   "execution_count": 68,
   "id": "2bfc19a2-1afc-4959-b798-b652393738e8",
   "metadata": {},
   "outputs": [],
   "source": [
    "ide=np.identity(4)"
   ]
  },
  {
   "cell_type": "code",
   "execution_count": 69,
   "id": "89f2526f-23ec-4154-a6ab-31f615e0a96f",
   "metadata": {},
   "outputs": [
    {
     "data": {
      "text/plain": [
       "array([[1., 0., 0., 0.],\n",
       "       [0., 1., 0., 0.],\n",
       "       [0., 0., 1., 0.],\n",
       "       [0., 0., 0., 1.]])"
      ]
     },
     "execution_count": 69,
     "metadata": {},
     "output_type": "execute_result"
    }
   ],
   "source": [
    "ide"
   ]
  },
  {
   "cell_type": "code",
   "execution_count": 209,
   "id": "b77f170e-cdac-43bf-a650-4fd6603effac",
   "metadata": {},
   "outputs": [
    {
     "data": {
      "text/plain": [
       "array([[1., 0., 0., 0.],\n",
       "       [0., 1., 0., 0.],\n",
       "       [0., 0., 1., 0.],\n",
       "       [0., 0., 0., 1.]])"
      ]
     },
     "execution_count": 209,
     "metadata": {},
     "output_type": "execute_result"
    }
   ],
   "source": [
    "np.identity(4)"
   ]
  },
  {
   "cell_type": "code",
   "execution_count": 71,
   "id": "addb84b1-734d-41f7-8438-7f5961cdc5b8",
   "metadata": {},
   "outputs": [
    {
     "data": {
      "text/plain": [
       "(4, 4)"
      ]
     },
     "execution_count": 71,
     "metadata": {},
     "output_type": "execute_result"
    }
   ],
   "source": [
    "ide.shape"
   ]
  },
  {
   "cell_type": "code",
   "execution_count": 72,
   "id": "de35e430-3cc8-4fa4-93b0-74c567c353ef",
   "metadata": {},
   "outputs": [
    {
     "data": {
      "text/plain": [
       "16"
      ]
     },
     "execution_count": 72,
     "metadata": {},
     "output_type": "execute_result"
    }
   ],
   "source": [
    "ide.size"
   ]
  },
  {
   "cell_type": "code",
   "execution_count": 158,
   "id": "13ff1287-553f-4673-8802-3616674a4a7a",
   "metadata": {},
   "outputs": [],
   "source": [
    "arr=np.arange(3,99)"
   ]
  },
  {
   "cell_type": "code",
   "execution_count": 159,
   "id": "83f648b3-1f68-40e7-b935-4ec974e3fa43",
   "metadata": {},
   "outputs": [
    {
     "data": {
      "text/plain": [
       "array([ 3,  4,  5,  6,  7,  8,  9, 10, 11, 12, 13, 14, 15, 16, 17, 18, 19,\n",
       "       20, 21, 22, 23, 24, 25, 26, 27, 28, 29, 30, 31, 32, 33, 34, 35, 36,\n",
       "       37, 38, 39, 40, 41, 42, 43, 44, 45, 46, 47, 48, 49, 50, 51, 52, 53,\n",
       "       54, 55, 56, 57, 58, 59, 60, 61, 62, 63, 64, 65, 66, 67, 68, 69, 70,\n",
       "       71, 72, 73, 74, 75, 76, 77, 78, 79, 80, 81, 82, 83, 84, 85, 86, 87,\n",
       "       88, 89, 90, 91, 92, 93, 94, 95, 96, 97, 98])"
      ]
     },
     "execution_count": 159,
     "metadata": {},
     "output_type": "execute_result"
    }
   ],
   "source": [
    "arr"
   ]
  },
  {
   "cell_type": "code",
   "execution_count": null,
   "id": "a92fd34a-53e3-4cf6-9ebc-5eb3e9986dfc",
   "metadata": {},
   "outputs": [],
   "source": [
    " "
   ]
  },
  {
   "cell_type": "code",
   "execution_count": null,
   "id": "84ec0581-0f9a-47de-82e8-f257500b0260",
   "metadata": {},
   "outputs": [],
   "source": [
    " "
   ]
  },
  {
   "cell_type": "code",
   "execution_count": 212,
   "id": "1c5ab8b4-19ec-4c97-9db8-5eac07dce2af",
   "metadata": {},
   "outputs": [
    {
     "ename": "ValueError",
     "evalue": "cannot reshape array of size 96 into shape (3,33)",
     "output_type": "error",
     "traceback": [
      "\u001b[1;31m---------------------------------------------------------------------------\u001b[0m",
      "\u001b[1;31mValueError\u001b[0m                                Traceback (most recent call last)",
      "Cell \u001b[1;32mIn[212], line 1\u001b[0m\n\u001b[1;32m----> 1\u001b[0m arr\u001b[38;5;241m=\u001b[39m\u001b[43marr\u001b[49m\u001b[38;5;241;43m.\u001b[39;49m\u001b[43mreshape\u001b[49m\u001b[43m(\u001b[49m\u001b[38;5;241;43m3\u001b[39;49m\u001b[43m,\u001b[49m\u001b[38;5;241;43m33\u001b[39;49m\u001b[43m)\u001b[49m\n",
      "\u001b[1;31mValueError\u001b[0m: cannot reshape array of size 96 into shape (3,33)"
     ]
    }
   ],
   "source": [
    "arr=arr.reshape(3,33)"
   ]
  },
  {
   "cell_type": "code",
   "execution_count": null,
   "id": "ad656999-0305-4b77-b40c-a69cca849a4d",
   "metadata": {},
   "outputs": [],
   "source": [
    "arr"
   ]
  },
  {
   "cell_type": "code",
   "execution_count": 76,
   "id": "86dc3e82-0609-4622-8736-800e05ff7814",
   "metadata": {},
   "outputs": [
    {
     "data": {
      "text/plain": [
       "array([[ 0,  1,  2,  3,  4,  5,  6,  7,  8,  9, 10],\n",
       "       [11, 12, 13, 14, 15, 16, 17, 18, 19, 20, 21],\n",
       "       [22, 23, 24, 25, 26, 27, 28, 29, 30, 31, 32],\n",
       "       [33, 34, 35, 36, 37, 38, 39, 40, 41, 42, 43],\n",
       "       [44, 45, 46, 47, 48, 49, 50, 51, 52, 53, 54],\n",
       "       [55, 56, 57, 58, 59, 60, 61, 62, 63, 64, 65],\n",
       "       [66, 67, 68, 69, 70, 71, 72, 73, 74, 75, 76],\n",
       "       [77, 78, 79, 80, 81, 82, 83, 84, 85, 86, 87],\n",
       "       [88, 89, 90, 91, 92, 93, 94, 95, 96, 97, 98]])"
      ]
     },
     "execution_count": 76,
     "metadata": {},
     "output_type": "execute_result"
    }
   ],
   "source": [
    "arr.reshape(9,11)"
   ]
  },
  {
   "cell_type": "code",
   "execution_count": 82,
   "id": "1bfc7bfa-0ddb-4c88-b671-34df6322e3eb",
   "metadata": {},
   "outputs": [
    {
     "data": {
      "text/plain": [
       "array([[ 0,  1,  2,  3,  4,  5,  6,  7,  8,  9, 10, 11, 12, 13, 14, 15,\n",
       "        16, 17, 18, 19, 20, 21, 22, 23, 24, 25, 26, 27, 28, 29, 30, 31,\n",
       "        32],\n",
       "       [33, 34, 35, 36, 37, 38, 39, 40, 41, 42, 43, 44, 45, 46, 47, 48,\n",
       "        49, 50, 51, 52, 53, 54, 55, 56, 57, 58, 59, 60, 61, 62, 63, 64,\n",
       "        65],\n",
       "       [66, 67, 68, 69, 70, 71, 72, 73, 74, 75, 76, 77, 78, 79, 80, 81,\n",
       "        82, 83, 84, 85, 86, 87, 88, 89, 90, 91, 92, 93, 94, 95, 96, 97,\n",
       "        98]])"
      ]
     },
     "execution_count": 82,
     "metadata": {},
     "output_type": "execute_result"
    }
   ],
   "source": [
    "arr"
   ]
  },
  {
   "cell_type": "code",
   "execution_count": 83,
   "id": "f5bff159-6d06-40e3-8d0d-0f945ada1124",
   "metadata": {},
   "outputs": [
    {
     "data": {
      "text/plain": [
       "array([ 0,  1,  2,  3,  4,  5,  6,  7,  8,  9, 10, 11, 12, 13, 14, 15, 16,\n",
       "       17, 18, 19, 20, 21, 22, 23, 24, 25, 26, 27, 28, 29, 30, 31, 32, 33,\n",
       "       34, 35, 36, 37, 38, 39, 40, 41, 42, 43, 44, 45, 46, 47, 48, 49, 50,\n",
       "       51, 52, 53, 54, 55, 56, 57, 58, 59, 60, 61, 62, 63, 64, 65, 66, 67,\n",
       "       68, 69, 70, 71, 72, 73, 74, 75, 76, 77, 78, 79, 80, 81, 82, 83, 84,\n",
       "       85, 86, 87, 88, 89, 90, 91, 92, 93, 94, 95, 96, 97, 98])"
      ]
     },
     "execution_count": 83,
     "metadata": {},
     "output_type": "execute_result"
    }
   ],
   "source": [
    "arr.ravel()"
   ]
  },
  {
   "cell_type": "code",
   "execution_count": 87,
   "id": "0bfcee8d-29cd-4a10-b09f-abdfe4569ad6",
   "metadata": {},
   "outputs": [
    {
     "data": {
      "text/plain": [
       "(3, 33)"
      ]
     },
     "execution_count": 87,
     "metadata": {},
     "output_type": "execute_result"
    }
   ],
   "source": [
    "arr.shape"
   ]
  },
  {
   "cell_type": "code",
   "execution_count": 88,
   "id": "7c4054f1-34c5-4fcc-93fc-d04216149d14",
   "metadata": {},
   "outputs": [
    {
     "data": {
      "text/plain": [
       "99"
      ]
     },
     "execution_count": 88,
     "metadata": {},
     "output_type": "execute_result"
    }
   ],
   "source": [
    "arr.size"
   ]
  },
  {
   "cell_type": "code",
   "execution_count": 89,
   "id": "6411996c-f721-413b-b813-dbab5b7db50f",
   "metadata": {},
   "outputs": [],
   "source": [
    "x=[[1,2,3],[4,5,6],[7,1,00]]"
   ]
  },
  {
   "cell_type": "code",
   "execution_count": 90,
   "id": "eed1eaa6-2145-4cf2-9e66-5dc8e38bd8fd",
   "metadata": {},
   "outputs": [
    {
     "data": {
      "text/plain": [
       "[[1, 2, 3], [4, 5, 6], [7, 1, 0]]"
      ]
     },
     "execution_count": 90,
     "metadata": {},
     "output_type": "execute_result"
    }
   ],
   "source": [
    "x"
   ]
  },
  {
   "cell_type": "code",
   "execution_count": 91,
   "id": "4b23f19d-6b30-4bbe-81a9-435ddcfa8c4f",
   "metadata": {},
   "outputs": [],
   "source": [
    "ar=np.array(x)"
   ]
  },
  {
   "cell_type": "code",
   "execution_count": 92,
   "id": "57c1edd5-f617-4cec-86c4-381a7eb4c86b",
   "metadata": {},
   "outputs": [
    {
     "data": {
      "text/plain": [
       "array([12,  8,  9])"
      ]
     },
     "execution_count": 92,
     "metadata": {},
     "output_type": "execute_result"
    }
   ],
   "source": [
    "ar.sum(axis=0)"
   ]
  },
  {
   "cell_type": "code",
   "execution_count": 93,
   "id": "32a526a9-ab0e-4427-b1a9-74cc7c948772",
   "metadata": {},
   "outputs": [
    {
     "data": {
      "text/plain": [
       "array([ 6, 15,  8])"
      ]
     },
     "execution_count": 93,
     "metadata": {},
     "output_type": "execute_result"
    }
   ],
   "source": [
    "ar.sum(axis=1)"
   ]
  },
  {
   "cell_type": "code",
   "execution_count": 94,
   "id": "136a427a-4f30-4b29-861c-6b6ff179811c",
   "metadata": {},
   "outputs": [
    {
     "data": {
      "text/plain": [
       "array([[1, 4, 7],\n",
       "       [2, 5, 1],\n",
       "       [3, 6, 0]])"
      ]
     },
     "execution_count": 94,
     "metadata": {},
     "output_type": "execute_result"
    }
   ],
   "source": [
    "ar.T  #transpose the array row ko column or column ko row"
   ]
  },
  {
   "cell_type": "code",
   "execution_count": 208,
   "id": "0fd60ff7-04e3-432c-9158-f41a9163e5b4",
   "metadata": {},
   "outputs": [
    {
     "data": {
      "text/plain": [
       "<numpy.flatiter at 0x198d2a22220>"
      ]
     },
     "execution_count": 208,
     "metadata": {},
     "output_type": "execute_result"
    }
   ],
   "source": [
    "ar.flat"
   ]
  },
  {
   "cell_type": "code",
   "execution_count": 96,
   "id": "6e5bc1c1-7e60-4403-8952-f4c5d4bf08a4",
   "metadata": {},
   "outputs": [
    {
     "name": "stdout",
     "output_type": "stream",
     "text": [
      "1\n",
      "2\n",
      "3\n",
      "4\n",
      "5\n",
      "6\n",
      "7\n",
      "1\n",
      "0\n"
     ]
    }
   ],
   "source": [
    "for items in ar.flat:\n",
    "    print(items)"
   ]
  },
  {
   "cell_type": "code",
   "execution_count": 207,
   "id": "93853a79-d548-4269-9a98-30e21397a8c8",
   "metadata": {},
   "outputs": [
    {
     "data": {
      "text/plain": [
       "2"
      ]
     },
     "execution_count": 207,
     "metadata": {},
     "output_type": "execute_result"
    }
   ],
   "source": [
    "ar.ndim"
   ]
  },
  {
   "cell_type": "code",
   "execution_count": 98,
   "id": "6f67500e-5967-47d8-810b-0ec459e2efeb",
   "metadata": {},
   "outputs": [
    {
     "data": {
      "text/plain": [
       "2"
      ]
     },
     "execution_count": 98,
     "metadata": {},
     "output_type": "execute_result"
    }
   ],
   "source": [
    "arr.ndim"
   ]
  },
  {
   "cell_type": "code",
   "execution_count": 99,
   "id": "73d0ed54-1869-47ea-b380-250f44da0128",
   "metadata": {},
   "outputs": [
    {
     "data": {
      "text/plain": [
       "9"
      ]
     },
     "execution_count": 99,
     "metadata": {},
     "output_type": "execute_result"
    }
   ],
   "source": [
    "ar.size"
   ]
  },
  {
   "cell_type": "code",
   "execution_count": 100,
   "id": "75d3758b-e921-4fd7-8f21-e9a649c41927",
   "metadata": {},
   "outputs": [
    {
     "data": {
      "text/plain": [
       "(3, 3)"
      ]
     },
     "execution_count": 100,
     "metadata": {},
     "output_type": "execute_result"
    }
   ],
   "source": [
    "ar.shape"
   ]
  },
  {
   "cell_type": "code",
   "execution_count": 102,
   "id": "b0c295c5-ce3a-4b48-bc02-b2145dbf2c83",
   "metadata": {},
   "outputs": [
    {
     "data": {
      "text/plain": [
       "36"
      ]
     },
     "execution_count": 102,
     "metadata": {},
     "output_type": "execute_result"
    }
   ],
   "source": [
    "ar.nbytes  # total bythes consume my array"
   ]
  },
  {
   "cell_type": "code",
   "execution_count": 105,
   "id": "0f5e7538-0cc7-4584-835f-236223d70de9",
   "metadata": {},
   "outputs": [],
   "source": [
    "one=np.array([1,3,5,5445,3,2,54])"
   ]
  },
  {
   "cell_type": "code",
   "execution_count": 106,
   "id": "f4deebb5-12e9-490f-a6f3-fa09b35f14a9",
   "metadata": {},
   "outputs": [
    {
     "data": {
      "text/plain": [
       "3"
      ]
     },
     "execution_count": 106,
     "metadata": {},
     "output_type": "execute_result"
    }
   ],
   "source": [
    "one.argmax()"
   ]
  },
  {
   "cell_type": "code",
   "execution_count": 107,
   "id": "59adfb36-a855-4f4b-ad89-9fb5cbda004b",
   "metadata": {},
   "outputs": [
    {
     "data": {
      "text/plain": [
       "0"
      ]
     },
     "execution_count": 107,
     "metadata": {},
     "output_type": "execute_result"
    }
   ],
   "source": [
    "one.argmin()"
   ]
  },
  {
   "cell_type": "code",
   "execution_count": 108,
   "id": "01f34c55-3721-4631-ad56-77b18a844e26",
   "metadata": {},
   "outputs": [
    {
     "data": {
      "text/plain": [
       "array([0, 5, 1, 4, 2, 6, 3], dtype=int64)"
      ]
     },
     "execution_count": 108,
     "metadata": {},
     "output_type": "execute_result"
    }
   ],
   "source": [
    "one.argsort()"
   ]
  },
  {
   "cell_type": "code",
   "execution_count": 109,
   "id": "cf7fb6d2-f70c-4c6c-a9c2-7e4773c449c0",
   "metadata": {},
   "outputs": [
    {
     "data": {
      "text/plain": [
       "8"
      ]
     },
     "execution_count": 109,
     "metadata": {},
     "output_type": "execute_result"
    }
   ],
   "source": [
    "ar.argmin()"
   ]
  },
  {
   "cell_type": "code",
   "execution_count": 110,
   "id": "80ea685b-3ff9-452e-b27c-885010aa1ec1",
   "metadata": {},
   "outputs": [
    {
     "data": {
      "text/plain": [
       "6"
      ]
     },
     "execution_count": 110,
     "metadata": {},
     "output_type": "execute_result"
    }
   ],
   "source": [
    "ar.argmax()"
   ]
  },
  {
   "cell_type": "code",
   "execution_count": 111,
   "id": "72fa9b93-5431-4d68-8237-5867c54a0bbe",
   "metadata": {},
   "outputs": [
    {
     "data": {
      "text/plain": [
       "array([[0, 1, 2],\n",
       "       [0, 1, 2],\n",
       "       [2, 1, 0]], dtype=int64)"
      ]
     },
     "execution_count": 111,
     "metadata": {},
     "output_type": "execute_result"
    }
   ],
   "source": [
    "ar.argsort()"
   ]
  },
  {
   "cell_type": "code",
   "execution_count": 112,
   "id": "6d6bd034-89ed-494e-a12c-b10aa6d83320",
   "metadata": {},
   "outputs": [
    {
     "data": {
      "text/plain": [
       "array([[0, 2, 2],\n",
       "       [1, 0, 0],\n",
       "       [2, 1, 1]], dtype=int64)"
      ]
     },
     "execution_count": 112,
     "metadata": {},
     "output_type": "execute_result"
    }
   ],
   "source": [
    "ar.argsort(axis=0)"
   ]
  },
  {
   "cell_type": "code",
   "execution_count": 113,
   "id": "7fa41d69-df13-4845-86fb-62b0ff0fe915",
   "metadata": {},
   "outputs": [
    {
     "data": {
      "text/plain": [
       "array([[0, 1, 2],\n",
       "       [0, 1, 2],\n",
       "       [2, 1, 0]], dtype=int64)"
      ]
     },
     "execution_count": 113,
     "metadata": {},
     "output_type": "execute_result"
    }
   ],
   "source": [
    "ar.argsort(axis=1)"
   ]
  },
  {
   "cell_type": "code",
   "execution_count": 114,
   "id": "dceab74b-dd2c-4238-af22-b385f259e3bd",
   "metadata": {},
   "outputs": [
    {
     "data": {
      "text/plain": [
       "array([[1, 2, 3],\n",
       "       [4, 5, 6],\n",
       "       [7, 1, 0]])"
      ]
     },
     "execution_count": 114,
     "metadata": {},
     "output_type": "execute_result"
    }
   ],
   "source": [
    "ar"
   ]
  },
  {
   "cell_type": "code",
   "execution_count": 162,
   "id": "0f6916c3-fc17-4693-b924-4a8fc4f04045",
   "metadata": {},
   "outputs": [
    {
     "data": {
      "text/plain": [
       "array([1, 2, 3, 4, 5, 6, 7, 1, 0])"
      ]
     },
     "execution_count": 162,
     "metadata": {},
     "output_type": "execute_result"
    }
   ],
   "source": [
    "ar.ravel()"
   ]
  },
  {
   "cell_type": "code",
   "execution_count": 116,
   "id": "5526d770-a00f-452a-ad01-375ea7bd92b8",
   "metadata": {},
   "outputs": [
    {
     "data": {
      "text/plain": [
       "array([[1],\n",
       "       [2],\n",
       "       [3],\n",
       "       [4],\n",
       "       [5],\n",
       "       [6],\n",
       "       [7],\n",
       "       [1],\n",
       "       [0]])"
      ]
     },
     "execution_count": 116,
     "metadata": {},
     "output_type": "execute_result"
    }
   ],
   "source": [
    "ar.reshape(9,1)"
   ]
  },
  {
   "cell_type": "code",
   "execution_count": 117,
   "id": "3e45af4e-2c31-435b-98b2-4efd5b9f1981",
   "metadata": {},
   "outputs": [],
   "source": [
    "ar2=np.array([[1,2,1],[8,5,12],[15,2,0]])"
   ]
  },
  {
   "cell_type": "code",
   "execution_count": 118,
   "id": "66d5306a-5708-4b24-b5c1-45b60a240e02",
   "metadata": {},
   "outputs": [
    {
     "data": {
      "text/plain": [
       "array([[ 2,  4,  4],\n",
       "       [12, 10, 18],\n",
       "       [22,  3,  0]])"
      ]
     },
     "execution_count": 118,
     "metadata": {},
     "output_type": "execute_result"
    }
   ],
   "source": [
    "ar+ar2"
   ]
  },
  {
   "cell_type": "code",
   "execution_count": 119,
   "id": "f5dab450-1c87-41ce-89be-83589dfac1b3",
   "metadata": {},
   "outputs": [
    {
     "data": {
      "text/plain": [
       "[324, 34, 12, 3]"
      ]
     },
     "execution_count": 119,
     "metadata": {},
     "output_type": "execute_result"
    }
   ],
   "source": [
    "[324,34] +[12,3]"
   ]
  },
  {
   "cell_type": "code",
   "execution_count": 120,
   "id": "f5034b2e-9344-47c7-9d6c-fe6d1bb19624",
   "metadata": {},
   "outputs": [
    {
     "data": {
      "text/plain": [
       "array([[  1,   4,   3],\n",
       "       [ 32,  25,  72],\n",
       "       [105,   2,   0]])"
      ]
     },
     "execution_count": 120,
     "metadata": {},
     "output_type": "execute_result"
    }
   ],
   "source": [
    "ar*ar2"
   ]
  },
  {
   "cell_type": "code",
   "execution_count": 121,
   "id": "a8c4958f-c6ce-4ee1-ab87-9e7b72a32609",
   "metadata": {},
   "outputs": [
    {
     "data": {
      "text/plain": [
       "array([[ 0,  0, -2],\n",
       "       [ 4,  0,  6],\n",
       "       [ 8,  1,  0]])"
      ]
     },
     "execution_count": 121,
     "metadata": {},
     "output_type": "execute_result"
    }
   ],
   "source": [
    "ar2-ar"
   ]
  },
  {
   "cell_type": "code",
   "execution_count": 122,
   "id": "3f1cb7f4-bbc7-49b3-87bb-c9a8959f7bf0",
   "metadata": {},
   "outputs": [
    {
     "data": {
      "text/plain": [
       "array([[1.        , 1.41421356, 1.73205081],\n",
       "       [2.        , 2.23606798, 2.44948974],\n",
       "       [2.64575131, 1.        , 0.        ]])"
      ]
     },
     "execution_count": 122,
     "metadata": {},
     "output_type": "execute_result"
    }
   ],
   "source": [
    "np.sqrt(ar)"
   ]
  },
  {
   "cell_type": "code",
   "execution_count": 123,
   "id": "fa57b33d-87fe-469d-adba-c75173b60be3",
   "metadata": {},
   "outputs": [
    {
     "data": {
      "text/plain": [
       "array([[1, 2, 3],\n",
       "       [4, 5, 6],\n",
       "       [7, 1, 0]])"
      ]
     },
     "execution_count": 123,
     "metadata": {},
     "output_type": "execute_result"
    }
   ],
   "source": [
    "ar"
   ]
  },
  {
   "cell_type": "code",
   "execution_count": 124,
   "id": "5a82a00e-908a-4c9c-abe5-10d2d565b2dd",
   "metadata": {},
   "outputs": [
    {
     "data": {
      "text/plain": [
       "29"
      ]
     },
     "execution_count": 124,
     "metadata": {},
     "output_type": "execute_result"
    }
   ],
   "source": [
    "ar.sum()"
   ]
  },
  {
   "cell_type": "code",
   "execution_count": 125,
   "id": "84a032a8-fbb9-46a5-b25f-7899af27e557",
   "metadata": {},
   "outputs": [
    {
     "data": {
      "text/plain": [
       "7"
      ]
     },
     "execution_count": 125,
     "metadata": {},
     "output_type": "execute_result"
    }
   ],
   "source": [
    "ar.max()"
   ]
  },
  {
   "cell_type": "code",
   "execution_count": 126,
   "id": "76fa01f6-b851-45f2-90e7-8c9ae71b3c7a",
   "metadata": {},
   "outputs": [
    {
     "data": {
      "text/plain": [
       "0"
      ]
     },
     "execution_count": 126,
     "metadata": {},
     "output_type": "execute_result"
    }
   ],
   "source": [
    "ar.min()"
   ]
  },
  {
   "cell_type": "code",
   "execution_count": 131,
   "id": "1d70b459-13f2-4dbe-ab7c-56c9ec47d256",
   "metadata": {},
   "outputs": [
    {
     "data": {
      "text/plain": [
       "tuple"
      ]
     },
     "execution_count": 131,
     "metadata": {},
     "output_type": "execute_result"
    }
   ],
   "source": [
    "type(np.where(ar>5))"
   ]
  },
  {
   "cell_type": "code",
   "execution_count": 132,
   "id": "6bc4fc8e-ad3c-4b86-b4e2-121b5d19c9d7",
   "metadata": {},
   "outputs": [
    {
     "data": {
      "text/plain": [
       "(array([1, 2], dtype=int64), array([2, 0], dtype=int64))"
      ]
     },
     "execution_count": 132,
     "metadata": {},
     "output_type": "execute_result"
    }
   ],
   "source": [
    "np.where(ar>5)"
   ]
  },
  {
   "cell_type": "code",
   "execution_count": 128,
   "id": "fd6cd329-b922-4275-ab49-711f2d129db9",
   "metadata": {},
   "outputs": [
    {
     "data": {
      "text/plain": [
       "6"
      ]
     },
     "execution_count": 128,
     "metadata": {},
     "output_type": "execute_result"
    }
   ],
   "source": [
    "ar[1][2]"
   ]
  },
  {
   "cell_type": "code",
   "execution_count": 129,
   "id": "6b7612dc-3181-4b1d-b169-d8f03fbfbdb7",
   "metadata": {},
   "outputs": [
    {
     "data": {
      "text/plain": [
       "7"
      ]
     },
     "execution_count": 129,
     "metadata": {},
     "output_type": "execute_result"
    }
   ],
   "source": [
    "ar[2][0]"
   ]
  },
  {
   "cell_type": "code",
   "execution_count": 130,
   "id": "9ad5d34c-d9c1-4bf8-b75f-69509150e5a6",
   "metadata": {},
   "outputs": [
    {
     "data": {
      "text/plain": [
       "numpy.ndarray"
      ]
     },
     "execution_count": 130,
     "metadata": {},
     "output_type": "execute_result"
    }
   ],
   "source": [
    "type(ar)"
   ]
  },
  {
   "cell_type": "code",
   "execution_count": 133,
   "id": "97bd1b89-0c24-4eb5-ac95-7b9537959ea8",
   "metadata": {},
   "outputs": [
    {
     "data": {
      "text/plain": [
       "8"
      ]
     },
     "execution_count": 133,
     "metadata": {},
     "output_type": "execute_result"
    }
   ],
   "source": [
    "np.count_nonzero(ar)"
   ]
  },
  {
   "cell_type": "code",
   "execution_count": 135,
   "id": "02c4210b-c54c-4ed3-8403-42b3b37e2434",
   "metadata": {},
   "outputs": [
    {
     "data": {
      "text/plain": [
       "(array([0, 0, 0, 1, 1, 1, 2, 2], dtype=int64),\n",
       " array([0, 1, 2, 0, 1, 2, 0, 1], dtype=int64))"
      ]
     },
     "execution_count": 135,
     "metadata": {},
     "output_type": "execute_result"
    }
   ],
   "source": [
    "np.nonzero(ar)"
   ]
  },
  {
   "cell_type": "code",
   "execution_count": 206,
   "id": "7d586e91-19cc-4e5f-bf56-22200b374ac5",
   "metadata": {},
   "outputs": [
    {
     "data": {
      "text/plain": [
       "array([[1, 2, 3],\n",
       "       [4, 5, 6],\n",
       "       [7, 1, 0]])"
      ]
     },
     "execution_count": 206,
     "metadata": {},
     "output_type": "execute_result"
    }
   ],
   "source": [
    "ar"
   ]
  },
  {
   "cell_type": "code",
   "execution_count": 139,
   "id": "e13b9199-1818-4691-ae80-16b578bb0497",
   "metadata": {},
   "outputs": [],
   "source": [
    "import sys"
   ]
  },
  {
   "cell_type": "code",
   "execution_count": 140,
   "id": "c5c2af6a-6e9d-4891-8aff-da2ebfff6c39",
   "metadata": {},
   "outputs": [],
   "source": [
    "char=['a','e','w','c']"
   ]
  },
  {
   "cell_type": "code",
   "execution_count": 141,
   "id": "4492150b-a92d-4e3e-ae15-c4b2b1823ecc",
   "metadata": {},
   "outputs": [
    {
     "data": {
      "text/plain": [
       "['a', 'e', 'w', 'c']"
      ]
     },
     "execution_count": 141,
     "metadata": {},
     "output_type": "execute_result"
    }
   ],
   "source": [
    "char"
   ]
  },
  {
   "cell_type": "code",
   "execution_count": 142,
   "id": "756d7cc2-bdd4-4718-97e7-8fb53fa5cde3",
   "metadata": {},
   "outputs": [],
   "source": [
    "py_arr=[0,4,55,2]"
   ]
  },
  {
   "cell_type": "code",
   "execution_count": 143,
   "id": "77ed002d-b9d7-4111-94da-dc25c2f47267",
   "metadata": {},
   "outputs": [],
   "source": [
    "np_arr=np.array(py_arr)"
   ]
  },
  {
   "cell_type": "code",
   "execution_count": 144,
   "id": "ded4b155-b142-43ea-9abc-50f1b5a1016e",
   "metadata": {},
   "outputs": [
    {
     "data": {
      "text/plain": [
       "112"
      ]
     },
     "execution_count": 144,
     "metadata": {},
     "output_type": "execute_result"
    }
   ],
   "source": [
    "sys.getsizeof(1)*len(py_arr)"
   ]
  },
  {
   "cell_type": "code",
   "execution_count": 145,
   "id": "652cdd51-fe30-417c-80fa-57eb46188166",
   "metadata": {},
   "outputs": [
    {
     "data": {
      "text/plain": [
       "16"
      ]
     },
     "execution_count": 145,
     "metadata": {},
     "output_type": "execute_result"
    }
   ],
   "source": [
    "np_arr.itemsize*np_arr.size"
   ]
  },
  {
   "cell_type": "code",
   "execution_count": 147,
   "id": "03b9d59e-9481-4a9c-a283-14a177b9c974",
   "metadata": {},
   "outputs": [
    {
     "ename": "NameError",
     "evalue": "name 'np_ar' is not defined",
     "output_type": "error",
     "traceback": [
      "\u001b[1;31m---------------------------------------------------------------------------\u001b[0m",
      "\u001b[1;31mNameError\u001b[0m                                 Traceback (most recent call last)",
      "Cell \u001b[1;32mIn[147], line 1\u001b[0m\n\u001b[1;32m----> 1\u001b[0m \u001b[43mnp_ar\u001b[49m\u001b[38;5;241m.\u001b[39mtolist() \n",
      "\u001b[1;31mNameError\u001b[0m: name 'np_ar' is not defined"
     ]
    }
   ],
   "source": [
    "np_ar.tolist() "
   ]
  },
  {
   "cell_type": "code",
   "execution_count": 169,
   "id": "683c216a-4913-4aef-8c90-3dc7fd5feb0c",
   "metadata": {},
   "outputs": [
    {
     "data": {
      "text/plain": [
       "array([[5],\n",
       "       [3],\n",
       "       [3],\n",
       "       [4]])"
      ]
     },
     "execution_count": 169,
     "metadata": {},
     "output_type": "execute_result"
    }
   ],
   "source": [
    "np.vstack((5,3,3,4))"
   ]
  },
  {
   "cell_type": "code",
   "execution_count": 168,
   "id": "10d9145e-7bee-4ef6-a6eb-642522f26adb",
   "metadata": {},
   "outputs": [
    {
     "data": {
      "text/plain": [
       "array([2, 3, 4, 5, 6, 6, 6, 5, 3])"
      ]
     },
     "execution_count": 168,
     "metadata": {},
     "output_type": "execute_result"
    }
   ],
   "source": [
    "np.hstack((2,3,4,5,6,6,6,5,3))"
   ]
  },
  {
   "cell_type": "code",
   "execution_count": 171,
   "id": "a805ab0e-67ba-449e-a5e1-99d2efb4fe2e",
   "metadata": {},
   "outputs": [
    {
     "ename": "SyntaxError",
     "evalue": "incomplete input (3434660487.py, line 1)",
     "output_type": "error",
     "traceback": [
      "\u001b[1;36m  Cell \u001b[1;32mIn[171], line 1\u001b[1;36m\u001b[0m\n\u001b[1;33m    np.hsplit((3,4)\u001b[0m\n\u001b[1;37m                   ^\u001b[0m\n\u001b[1;31mSyntaxError\u001b[0m\u001b[1;31m:\u001b[0m incomplete input\n"
     ]
    }
   ],
   "source": [
    "np.hsplit((3,4)"
   ]
  },
  {
   "cell_type": "code",
   "execution_count": 174,
   "id": "f0fc8499-2aa0-41cf-8b82-cd8577b49b03",
   "metadata": {},
   "outputs": [],
   "source": [
    "a=np.array([3,4,4,3,3,3,4,5,6])"
   ]
  },
  {
   "cell_type": "code",
   "execution_count": 175,
   "id": "d0c951fe-5ca8-489c-82a0-28174df8ab3a",
   "metadata": {},
   "outputs": [
    {
     "data": {
      "text/plain": [
       "array([3, 4, 4, 3, 3, 3, 4, 5, 6])"
      ]
     },
     "execution_count": 175,
     "metadata": {},
     "output_type": "execute_result"
    }
   ],
   "source": [
    "a"
   ]
  },
  {
   "cell_type": "code",
   "execution_count": 176,
   "id": "7457f185-051b-4fc5-906f-32a2416f001c",
   "metadata": {},
   "outputs": [
    {
     "data": {
      "text/plain": [
       "[array([3, 4, 4]), array([3, 3, 3]), array([4, 5, 6])]"
      ]
     },
     "execution_count": 176,
     "metadata": {},
     "output_type": "execute_result"
    }
   ],
   "source": [
    "np.hsplit(a,3)"
   ]
  },
  {
   "cell_type": "code",
   "execution_count": 181,
   "id": "5c0c6ce2-4707-4628-9d3d-1a527a066e1b",
   "metadata": {},
   "outputs": [
    {
     "ename": "ValueError",
     "evalue": "vsplit only works on arrays of 2 or more dimensions",
     "output_type": "error",
     "traceback": [
      "\u001b[1;31m---------------------------------------------------------------------------\u001b[0m",
      "\u001b[1;31mValueError\u001b[0m                                Traceback (most recent call last)",
      "Cell \u001b[1;32mIn[181], line 1\u001b[0m\n\u001b[1;32m----> 1\u001b[0m \u001b[43mnp\u001b[49m\u001b[38;5;241;43m.\u001b[39;49m\u001b[43mvsplit\u001b[49m\u001b[43m(\u001b[49m\u001b[43ma\u001b[49m\u001b[43m,\u001b[49m\u001b[38;5;241;43m3\u001b[39;49m\u001b[43m)\u001b[49m\n",
      "File \u001b[1;32m~\\AppData\\Local\\Programs\\Python\\Python311\\Lib\\site-packages\\numpy\\lib\\shape_base.py:988\u001b[0m, in \u001b[0;36mvsplit\u001b[1;34m(ary, indices_or_sections)\u001b[0m\n\u001b[0;32m    945\u001b[0m \u001b[38;5;250m\u001b[39m\u001b[38;5;124;03m\"\"\"\u001b[39;00m\n\u001b[0;32m    946\u001b[0m \u001b[38;5;124;03mSplit an array into multiple sub-arrays vertically (row-wise).\u001b[39;00m\n\u001b[0;32m    947\u001b[0m \n\u001b[1;32m   (...)\u001b[0m\n\u001b[0;32m    985\u001b[0m \n\u001b[0;32m    986\u001b[0m \u001b[38;5;124;03m\"\"\"\u001b[39;00m\n\u001b[0;32m    987\u001b[0m \u001b[38;5;28;01mif\u001b[39;00m _nx\u001b[38;5;241m.\u001b[39mndim(ary) \u001b[38;5;241m<\u001b[39m \u001b[38;5;241m2\u001b[39m:\n\u001b[1;32m--> 988\u001b[0m     \u001b[38;5;28;01mraise\u001b[39;00m \u001b[38;5;167;01mValueError\u001b[39;00m(\u001b[38;5;124m'\u001b[39m\u001b[38;5;124mvsplit only works on arrays of 2 or more dimensions\u001b[39m\u001b[38;5;124m'\u001b[39m)\n\u001b[0;32m    989\u001b[0m \u001b[38;5;28;01mreturn\u001b[39;00m split(ary, indices_or_sections, \u001b[38;5;241m0\u001b[39m)\n",
      "\u001b[1;31mValueError\u001b[0m: vsplit only works on arrays of 2 or more dimensions"
     ]
    }
   ],
   "source": [
    "np.vsplit(a,3)"
   ]
  },
  {
   "cell_type": "code",
   "execution_count": 195,
   "id": "647a6a3b-bc4b-425c-94bf-350ccf347b45",
   "metadata": {},
   "outputs": [],
   "source": [
    "a=[2,3,4,4,4,4,4,4,4,4,4,4,4,4,4,4,4,4,4,]"
   ]
  },
  {
   "cell_type": "code",
   "execution_count": 196,
   "id": "0305c2ad-8111-457c-a20d-983969262018",
   "metadata": {},
   "outputs": [
    {
     "ename": "ValueError",
     "evalue": "vsplit only works on arrays of 2 or more dimensions",
     "output_type": "error",
     "traceback": [
      "\u001b[1;31m---------------------------------------------------------------------------\u001b[0m",
      "\u001b[1;31mValueError\u001b[0m                                Traceback (most recent call last)",
      "Cell \u001b[1;32mIn[196], line 1\u001b[0m\n\u001b[1;32m----> 1\u001b[0m \u001b[43mnp\u001b[49m\u001b[38;5;241;43m.\u001b[39;49m\u001b[43mvsplit\u001b[49m\u001b[43m(\u001b[49m\u001b[43ma\u001b[49m\u001b[43m,\u001b[49m\u001b[38;5;241;43m3\u001b[39;49m\u001b[43m)\u001b[49m\n",
      "File \u001b[1;32m~\\AppData\\Local\\Programs\\Python\\Python311\\Lib\\site-packages\\numpy\\lib\\shape_base.py:988\u001b[0m, in \u001b[0;36mvsplit\u001b[1;34m(ary, indices_or_sections)\u001b[0m\n\u001b[0;32m    945\u001b[0m \u001b[38;5;250m\u001b[39m\u001b[38;5;124;03m\"\"\"\u001b[39;00m\n\u001b[0;32m    946\u001b[0m \u001b[38;5;124;03mSplit an array into multiple sub-arrays vertically (row-wise).\u001b[39;00m\n\u001b[0;32m    947\u001b[0m \n\u001b[1;32m   (...)\u001b[0m\n\u001b[0;32m    985\u001b[0m \n\u001b[0;32m    986\u001b[0m \u001b[38;5;124;03m\"\"\"\u001b[39;00m\n\u001b[0;32m    987\u001b[0m \u001b[38;5;28;01mif\u001b[39;00m _nx\u001b[38;5;241m.\u001b[39mndim(ary) \u001b[38;5;241m<\u001b[39m \u001b[38;5;241m2\u001b[39m:\n\u001b[1;32m--> 988\u001b[0m     \u001b[38;5;28;01mraise\u001b[39;00m \u001b[38;5;167;01mValueError\u001b[39;00m(\u001b[38;5;124m'\u001b[39m\u001b[38;5;124mvsplit only works on arrays of 2 or more dimensions\u001b[39m\u001b[38;5;124m'\u001b[39m)\n\u001b[0;32m    989\u001b[0m \u001b[38;5;28;01mreturn\u001b[39;00m split(ary, indices_or_sections, \u001b[38;5;241m0\u001b[39m)\n",
      "\u001b[1;31mValueError\u001b[0m: vsplit only works on arrays of 2 or more dimensions"
     ]
    }
   ],
   "source": [
    "np.vsplit(a,3)"
   ]
  },
  {
   "cell_type": "code",
   "execution_count": 204,
   "id": "38feee10-b204-4088-a994-29b4c257c035",
   "metadata": {},
   "outputs": [
    {
     "ename": "SyntaxError",
     "evalue": "incomplete input (2500337847.py, line 1)",
     "output_type": "error",
     "traceback": [
      "\u001b[1;36m  Cell \u001b[1;32mIn[204], line 1\u001b[1;36m\u001b[0m\n\u001b[1;33m    for x in np.nditer(a,order='c'):\u001b[0m\n\u001b[1;37m                                    ^\u001b[0m\n\u001b[1;31mSyntaxError\u001b[0m\u001b[1;31m:\u001b[0m incomplete input\n"
     ]
    }
   ],
   "source": [
    "for x in np.nditer(a,order='c'):"
   ]
  },
  {
   "cell_type": "code",
   "execution_count": 205,
   "id": "c3416fed-2615-4b14-a62b-3db4d5aee44b",
   "metadata": {},
   "outputs": [
    {
     "data": {
      "text/plain": [
       "[[1, 2, 3], [4, 5, 6], [7, 1, 0]]"
      ]
     },
     "execution_count": 205,
     "metadata": {},
     "output_type": "execute_result"
    }
   ],
   "source": [
    "x"
   ]
  },
  {
   "cell_type": "code",
   "execution_count": 217,
   "id": "fc0dfb35-92a0-4efa-8bbe-83be461c5cf6",
   "metadata": {},
   "outputs": [
    {
     "name": "stdout",
     "output_type": "stream",
     "text": [
      "8.44 µs ± 472 ns per loop (mean ± std. dev. of 7 runs, 100,000 loops each)\n"
     ]
    }
   ],
   "source": [
    "%timeit [j**4 for j in range(1,9)]"
   ]
  },
  {
   "cell_type": "code",
   "execution_count": 218,
   "id": "7c1bb3aa-9193-43da-ad3d-07cf8048ece9",
   "metadata": {},
   "outputs": [
    {
     "name": "stdout",
     "output_type": "stream",
     "text": [
      "30.6 µs ± 4.72 µs per loop (mean ± std. dev. of 7 runs, 10,000 loops each)\n"
     ]
    }
   ],
   "source": [
    "%timeit np.arange(1,9)**4"
   ]
  },
  {
   "cell_type": "code",
   "execution_count": 219,
   "id": "59cbf483-e15f-40a5-8e50-bc3e81bb8ced",
   "metadata": {},
   "outputs": [],
   "source": [
    "a=[j**4 for j in range(1,9)]"
   ]
  },
  {
   "cell_type": "code",
   "execution_count": 220,
   "id": "9979ac5c-3aca-44d0-be15-9c73ad2cf2f4",
   "metadata": {},
   "outputs": [
    {
     "data": {
      "text/plain": [
       "[1, 16, 81, 256, 625, 1296, 2401, 4096]"
      ]
     },
     "execution_count": 220,
     "metadata": {},
     "output_type": "execute_result"
    }
   ],
   "source": [
    "a"
   ]
  },
  {
   "cell_type": "code",
   "execution_count": null,
   "id": "bc47d733-2ac3-4451-838d-d61d245200d2",
   "metadata": {},
   "outputs": [],
   "source": []
  }
 ],
 "metadata": {
  "kernelspec": {
   "display_name": "Python 3 (ipykernel)",
   "language": "python",
   "name": "python3"
  },
  "language_info": {
   "codemirror_mode": {
    "name": "ipython",
    "version": 3
   },
   "file_extension": ".py",
   "mimetype": "text/x-python",
   "name": "python",
   "nbconvert_exporter": "python",
   "pygments_lexer": "ipython3",
   "version": "3.12.0"
  }
 },
 "nbformat": 4,
 "nbformat_minor": 5
}
