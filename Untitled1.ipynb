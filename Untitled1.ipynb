{
 "cells": [
  {
   "cell_type": "code",
   "execution_count": 1,
   "id": "e3407096-52eb-4cd6-8221-07abd3ba6ef4",
   "metadata": {},
   "outputs": [],
   "source": [
    "import numpy as np"
   ]
  },
  {
   "cell_type": "code",
   "execution_count": 10,
   "id": "d119a1f7-043d-49e3-a734-83b8995bc1b8",
   "metadata": {},
   "outputs": [
    {
     "name": "stdout",
     "output_type": "stream",
     "text": [
      "[1 2 3 4]\n",
      "<class 'numpy.ndarray'>\n"
     ]
    }
   ],
   "source": [
    "x=np.array([1,2,3,4])\n",
    "print(x)\n",
    "print(type(x))"
   ]
  },
  {
   "cell_type": "code",
   "execution_count": 11,
   "id": "f64c2388-9ce0-4a4b-8d23-8680001a86ce",
   "metadata": {},
   "outputs": [
    {
     "name": "stdout",
     "output_type": "stream",
     "text": [
      "[1, 2, 3, 4]\n",
      "<class 'list'>\n"
     ]
    }
   ],
   "source": [
    "y=[1,2,3,4]\n",
    "print(y)\n",
    "print(type(y))"
   ]
  },
  {
   "cell_type": "markdown",
   "id": "f8610b3e-b5c6-4954-88f2-f88f403a1933",
   "metadata": {},
   "source": [
    "# Array"
   ]
  },
  {
   "cell_type": "code",
   "execution_count": 3,
   "id": "64df4649-f8f7-4d9f-9238-195b07a4d81d",
   "metadata": {},
   "outputs": [
    {
     "name": "stdout",
     "output_type": "stream",
     "text": [
      "[1 2 3 4 5 6]\n"
     ]
    }
   ],
   "source": [
    "import numpy as np\n",
    "a=np.array([1,2,3,4,5,6])\n",
    "print(a)"
   ]
  },
  {
   "cell_type": "code",
   "execution_count": 7,
   "id": "a59f1000-eb00-49d6-8153-daab20ecf838",
   "metadata": {},
   "outputs": [
    {
     "name": "stdout",
     "output_type": "stream",
     "text": [
      "[1 2 3 4 5 6]\n",
      "[1, 2, 3, 4, 5, 6]\n",
      "<class 'numpy.ndarray'>\n",
      "<class 'list'>\n"
     ]
    }
   ],
   "source": [
    "l=[1,2,3,4,5,6]\n",
    "y=np.array(l)\n",
    "print(y)\n",
    "print(l)\n",
    "print(type(y))\n",
    "print(type(l))"
   ]
  },
  {
   "cell_type": "code",
   "execution_count": 9,
   "id": "5260bfc7-467f-4153-9878-400e5a3039eb",
   "metadata": {},
   "outputs": [
    {
     "name": "stdin",
     "output_type": "stream",
     "text": [
      "enter: 12\n",
      "enter: 122\n",
      "enter: 1\n",
      "enter: 123\n"
     ]
    },
    {
     "name": "stdout",
     "output_type": "stream",
     "text": [
      "['12' '122' '1' '123']\n"
     ]
    }
   ],
   "source": [
    " l=[]\n",
    "for i in range(1,5):\n",
    "    int1=input(\"enter:\")\n",
    "    l.append(int1)\n",
    "print(np.array(l))    "
   ]
  },
  {
   "cell_type": "code",
   "execution_count": 11,
   "id": "34828109-c1cd-4b77-bc34-4d799aff7462",
   "metadata": {},
   "outputs": [
    {
     "name": "stdin",
     "output_type": "stream",
     "text": [
      "enter: 4\n",
      "enter: 3\n",
      "enter: 2\n",
      "enter: 2\n"
     ]
    },
    {
     "name": "stdout",
     "output_type": "stream",
     "text": [
      "[4 3 2 2]\n"
     ]
    },
    {
     "data": {
      "text/plain": [
       "1"
      ]
     },
     "execution_count": 11,
     "metadata": {},
     "output_type": "execute_result"
    }
   ],
   "source": [
    " l=[]\n",
    "for i in range(1,5):\n",
    "    int1=int(input(\"enter:\"))\n",
    "    l.append(int1)\n",
    "print(np.array(l))    \n",
    "np.ndim(l)"
   ]
  },
  {
   "cell_type": "code",
   "execution_count": 23,
   "id": "b8ac951f-9e50-4ad1-a515-e683bd2a94fd",
   "metadata": {},
   "outputs": [
    {
     "name": "stdout",
     "output_type": "stream",
     "text": [
      "[[1 2 3]\n",
      " [3 4 5]]\n",
      "<class 'numpy.ndarray'>\n",
      "2\n"
     ]
    }
   ],
   "source": [
    "a=np.array([[1,2,3],[3,4,5]])\n",
    "print(a)\n",
    "print(type(a))\n",
    "print(a.ndim)"
   ]
  },
  {
   "cell_type": "code",
   "execution_count": 25,
   "id": "9cff3118-28f2-48f8-a51a-688f0c2e650f",
   "metadata": {},
   "outputs": [
    {
     "name": "stdout",
     "output_type": "stream",
     "text": [
      "[[[1 2 3 4]\n",
      "  [1 2 3 4]\n",
      "  [1 2 3 4]]]\n",
      "<class 'numpy.ndarray'>\n",
      "3\n"
     ]
    }
   ],
   "source": [
    "a3=np.array([[[1,2,3,4],[1,2,3,4],[1,2,3,4]]])\n",
    "print(a3)\n",
    "print(type(a3))\n",
    "print(a3.ndim)"
   ]
  },
  {
   "cell_type": "code",
   "execution_count": 29,
   "id": "78745303-031c-4f5d-9f97-3955b2270c99",
   "metadata": {},
   "outputs": [
    {
     "name": "stdout",
     "output_type": "stream",
     "text": [
      "[[[[[[[[[[1 2 3 4]]]]]]]]]]\n",
      "10\n",
      "<class 'numpy.ndarray'>\n"
     ]
    }
   ],
   "source": [
    "an=np.array([1,2,3,4],ndmin=10)\n",
    "print(an)\n",
    "print(an.ndim)\n",
    "print(type(an))"
   ]
  },
  {
   "cell_type": "raw",
   "id": "7385709f-964d-486b-91f1-a7b0d14ab15a",
   "metadata": {},
   "source": []
  },
  {
   "cell_type": "markdown",
   "id": "93d4342b-4672-4aeb-a761-744b0a6b2689",
   "metadata": {},
   "source": [
    "# 0's array"
   ]
  },
  {
   "cell_type": "code",
   "execution_count": 35,
   "id": "8ee0a7aa-42b6-4adb-b9a4-1a1abc251ea8",
   "metadata": {},
   "outputs": [
    {
     "name": "stdout",
     "output_type": "stream",
     "text": [
      "[0. 0. 0. 0. 0. 0. 0. 0. 0. 0. 0. 0. 0. 0. 0. 0. 0. 0. 0. 0. 0. 0. 0.]\n",
      "[[0. 0. 0. 0.]\n",
      " [0. 0. 0. 0.]\n",
      " [0. 0. 0. 0.]]\n"
     ]
    }
   ],
   "source": [
    "a0=np.zeros(23)\n",
    "a01=np.zeros((3,4))\n",
    "print(a0)\n",
    "print(a01)"
   ]
  },
  {
   "cell_type": "markdown",
   "id": "fba715c5-6f5c-4ac5-a2e5-cc5924dd5ea6",
   "metadata": {},
   "source": [
    "# 1's array"
   ]
  },
  {
   "cell_type": "code",
   "execution_count": 38,
   "id": "676ac91c-fa1d-431c-825e-f527307cb73f",
   "metadata": {},
   "outputs": [
    {
     "name": "stdout",
     "output_type": "stream",
     "text": [
      "[1. 1. 1. 1. 1. 1. 1. 1. 1. 1. 1. 1. 1. 1. 1. 1. 1. 1. 1. 1. 1. 1. 1.]\n",
      "[[1. 1. 1. 1.]\n",
      " [1. 1. 1. 1.]\n",
      " [1. 1. 1. 1.]]\n"
     ]
    }
   ],
   "source": [
    "a1=np.ones(23)\n",
    "a01=np.ones((3,4))\n",
    "print(a1)\n",
    "print(a01)"
   ]
  },
  {
   "cell_type": "markdown",
   "id": "5a0d6c79-eefc-43ad-8580-0c0e1b5973a8",
   "metadata": {},
   "source": [
    "# empty array"
   ]
  },
  {
   "cell_type": "code",
   "execution_count": 39,
   "id": "e7f68021-d34f-412b-8efc-14cb40fd34c7",
   "metadata": {},
   "outputs": [
    {
     "name": "stdout",
     "output_type": "stream",
     "text": [
      "[1. 1. 1. 1. 1. 1. 1. 1. 1. 1. 1. 1. 1. 1. 1. 1. 1. 1. 1. 1. 1. 1. 1.]\n",
      "<class 'numpy.ndarray'>\n"
     ]
    }
   ],
   "source": [
    "emp=np.empty(23)\n",
    "print(emp)\n",
    "print(type(emp))"
   ]
  },
  {
   "cell_type": "markdown",
   "id": "e19f897e-baa6-4872-86aa-8368da22a133",
   "metadata": {},
   "source": [
    "# range array"
   ]
  },
  {
   "cell_type": "code",
   "execution_count": 41,
   "id": "adefe06c-40d0-4169-94a1-32c6cc5e5f4b",
   "metadata": {},
   "outputs": [
    {
     "name": "stdout",
     "output_type": "stream",
     "text": [
      "[ 1  2  3  4  5  6  7  8  9 10 11 12 13 14 15 16 17 18 19 20 21 22 23 24\n",
      " 25 26 27 28 29 30 31 32 33 34 35 36 37 38 39 40 41 42 43 44 45 46 47 48\n",
      " 49 50]\n"
     ]
    }
   ],
   "source": [
    "ran=np.arange(1,51)\n",
    "print(ran)"
   ]
  },
  {
   "cell_type": "markdown",
   "id": "2e24e862-e604-408b-bb9c-a55b871d7341",
   "metadata": {},
   "source": [
    "# Diagonal 1's"
   ]
  },
  {
   "cell_type": "code",
   "execution_count": 42,
   "id": "ef8122fb-de88-4c86-a28d-d67757f1a0ad",
   "metadata": {},
   "outputs": [
    {
     "name": "stdout",
     "output_type": "stream",
     "text": [
      "[[1. 0. 0.]\n",
      " [0. 1. 0.]\n",
      " [0. 0. 1.]]\n"
     ]
    }
   ],
   "source": [
    "dia=np.eye(3)\n",
    "print(dia)"
   ]
  },
  {
   "cell_type": "code",
   "execution_count": 47,
   "id": "791b5e8c-93dc-4450-b367-21a6121f2eb8",
   "metadata": {},
   "outputs": [
    {
     "name": "stdout",
     "output_type": "stream",
     "text": [
      "[[1. 0. 0. 0. 0.]\n",
      " [0. 1. 0. 0. 0.]\n",
      " [0. 0. 1. 0. 0.]\n",
      " [0. 0. 0. 1. 0.]\n",
      " [0. 0. 0. 0. 1.]\n",
      " [0. 0. 0. 0. 0.]]\n"
     ]
    }
   ],
   "source": [
    "dia=np.eye(6,5)\n",
    "print(dia)"
   ]
  },
  {
   "cell_type": "markdown",
   "id": "d523a7c8-70ba-45ea-93a3-a326851358bc",
   "metadata": {},
   "source": [
    "# Special Gaplinespace"
   ]
  },
  {
   "cell_type": "code",
   "execution_count": 51,
   "id": "e1835101-cb69-4b98-ab6b-f8a613300871",
   "metadata": {},
   "outputs": [
    {
     "name": "stdout",
     "output_type": "stream",
     "text": [
      "[ 1.          1.83050847  2.66101695  3.49152542  4.3220339   5.15254237\n",
      "  5.98305085  6.81355932  7.6440678   8.47457627  9.30508475 10.13559322\n",
      " 10.96610169 11.79661017 12.62711864 13.45762712 14.28813559 15.11864407\n",
      " 15.94915254 16.77966102 17.61016949 18.44067797 19.27118644 20.10169492\n",
      " 20.93220339 21.76271186 22.59322034 23.42372881 24.25423729 25.08474576\n",
      " 25.91525424 26.74576271 27.57627119 28.40677966 29.23728814 30.06779661\n",
      " 30.89830508 31.72881356 32.55932203 33.38983051 34.22033898 35.05084746\n",
      " 35.88135593 36.71186441 37.54237288 38.37288136 39.20338983 40.03389831\n",
      " 40.86440678 41.69491525 42.52542373 43.3559322  44.18644068 45.01694915\n",
      " 45.84745763 46.6779661  47.50847458 48.33898305 49.16949153 50.        ]\n"
     ]
    }
   ],
   "source": [
    "ls=np.linspace(1,50,60)\n",
    "print(ls)"
   ]
  },
  {
   "cell_type": "markdown",
   "id": "52540760-bf7a-498c-add6-9596a18f7da2",
   "metadata": {},
   "source": [
    "# Random"
   ]
  },
  {
   "cell_type": "markdown",
   "id": "dd736941-321e-4253-9900-af2063df40a1",
   "metadata": {},
   "source": [
    "# rand()"
   ]
  },
  {
   "cell_type": "code",
   "execution_count": 58,
   "id": "dc59bcfe-3b35-42dc-acec-65e9f826da2f",
   "metadata": {},
   "outputs": [
    {
     "name": "stdout",
     "output_type": "stream",
     "text": [
      "[0.14407019 0.23201818 0.02515802 0.51302165]\n",
      " \n",
      "[[0.51698116 0.90819588 0.58170689 0.58148349]\n",
      " [0.51909268 0.70365693 0.31634894 0.51581702]\n",
      " [0.50376232 0.56234621 0.52133619 0.33484601]\n",
      " [0.20426678 0.10132266 0.85390891 0.6556607 ]]\n"
     ]
    }
   ],
   "source": [
    "ran=np.random.rand(4)\n",
    "ran1=np.random.rand(4,4)\n",
    "print(ran)\n",
    "print(\" \")\n",
    "print(ran1)"
   ]
  },
  {
   "cell_type": "markdown",
   "id": "f29e8fba-b9e4-4eb7-82b1-f2862a36ad16",
   "metadata": {},
   "source": [
    "# randn()"
   ]
  },
  {
   "cell_type": "code",
   "execution_count": 60,
   "id": "b3d68a13-4169-420a-9a86-17dd0c9cbfa5",
   "metadata": {},
   "outputs": [
    {
     "name": "stdout",
     "output_type": "stream",
     "text": [
      "[0.5189562  0.3538726  0.71669034 0.97135256]\n",
      " \n",
      "[[ 0.85849526 -2.08456809 -1.37539607  2.891758  ]\n",
      " [ 0.39728873 -0.29099695  0.72896376  1.61856172]\n",
      " [ 0.26720264 -0.16211358 -0.95294041  0.54391855]\n",
      " [ 1.98611202  0.52982993 -2.00001794 -1.14089356]]\n"
     ]
    }
   ],
   "source": [
    "ran=np.random.randn(4)\n",
    "ran1=np.random.randn(4,4)\n",
    "print(ran)\n",
    "print(\" \")\n",
    "print(ran1)"
   ]
  },
  {
   "cell_type": "markdown",
   "id": "3b621791-f459-49d2-b45f-17c743adff8f",
   "metadata": {},
   "source": [
    "# randf()"
   ]
  },
  {
   "cell_type": "code",
   "execution_count": 68,
   "id": "efb99fe1-80d5-4590-87af-3a393287ea69",
   "metadata": {},
   "outputs": [
    {
     "name": "stdout",
     "output_type": "stream",
     "text": [
      "[0.07881958 0.59379426 0.72696833 0.79891755 0.60398411]\n",
      " \n",
      "[0.50961237 0.10097022 0.36308432 0.35961121]\n"
     ]
    }
   ],
   "source": [
    "ran=np.random.ranf(5)\n",
    "ran1=np.random.ranf(4)\n",
    "print(ran)\n",
    "print(\" \")\n",
    "print(ran1)"
   ]
  },
  {
   "cell_type": "markdown",
   "id": "84f4374f-aefd-4824-ab76-563a2ebbd8f0",
   "metadata": {},
   "source": [
    "# randint()"
   ]
  },
  {
   "cell_type": "code",
   "execution_count": 71,
   "id": "14feeca2-1fb2-4576-9f21-acacc1e95b16",
   "metadata": {},
   "outputs": [
    {
     "name": "stdout",
     "output_type": "stream",
     "text": [
      "[25 20 11  7 38 12 17 27 41 13 28 25 23 26  7 12 22 13 40  7 34 29 31  5\n",
      " 29 12 37 14 27 38  8  6 35 23 30  8 16 25 41 32 12 15 13 40 18 28 35 34\n",
      " 23 35 41 24 38 19 16 11 24 26 24 34]\n",
      " \n",
      "[ 9 19 16 19 12]\n"
     ]
    }
   ],
   "source": [
    "ran=np.random.randint(5,45,60)\n",
    "ran1=np.random.randint(5,20,5)\n",
    "print(ran)\n",
    "print(\" \")\n",
    "print(ran1)"
   ]
  },
  {
   "cell_type": "markdown",
   "id": "970fb70f-369d-4cdd-b93e-de044c2f46fa",
   "metadata": {},
   "source": [
    "# datatype in numpy array"
   ]
  },
  {
   "cell_type": "code",
   "execution_count": 73,
   "id": "0361f9d7-ac65-4329-8e0a-86e613eea234",
   "metadata": {},
   "outputs": [
    {
     "name": "stdout",
     "output_type": "stream",
     "text": [
      "['r' '4' 'r' '5' '6' 'g' 'asdfg']\n"
     ]
    }
   ],
   "source": [
    "a=np.array(['r',4,'r',5,6,'g','asdfg'])\n",
    "print(a)"
   ]
  },
  {
   "cell_type": "code",
   "execution_count": 77,
   "id": "d21140c5-2459-4002-8d61-0d56ee483216",
   "metadata": {},
   "outputs": [
    {
     "name": "stdout",
     "output_type": "stream",
     "text": [
      "[1 2 3 4 5 6 6 6 6 6 6 6 6 6 6]\n",
      "<class 'numpy.ndarray'>\n"
     ]
    },
    {
     "data": {
      "text/plain": [
       "dtype('int32')"
      ]
     },
     "execution_count": 77,
     "metadata": {},
     "output_type": "execute_result"
    }
   ],
   "source": [
    "array=np.array([1,2,3,4,5,6,6,6,6,6,6,6,6,6,6])\n",
    "print(array)\n",
    "print(type(array))\n",
    "array.dtype "
   ]
  },
  {
   "cell_type": "code",
   "execution_count": 78,
   "id": "c9e8093d-89af-4a5e-b488-13d055e1633e",
   "metadata": {},
   "outputs": [
    {
     "name": "stdout",
     "output_type": "stream",
     "text": [
      "[1.3 2.3 3.5 4.6 5.7 6.9 6.4 6.3 6.2 6.4 6.6 6.9 6.6 6.4 6.3]\n",
      "<class 'numpy.ndarray'>\n"
     ]
    },
    {
     "data": {
      "text/plain": [
       "dtype('float64')"
      ]
     },
     "execution_count": 78,
     "metadata": {},
     "output_type": "execute_result"
    }
   ],
   "source": [
    "array=np.array([1.3,2.3,3.5,4.6,5.7,6.9,6.4,6.3,6.2,6.4,6.6,6.9,6.6,6.4,6.3])\n",
    "print(array)\n",
    "print(type(array))\n",
    "array.dtype "
   ]
  },
  {
   "cell_type": "code",
   "execution_count": 79,
   "id": "011c8fa7-9734-4540-9290-7d553ede86f4",
   "metadata": {},
   "outputs": [
    {
     "name": "stdout",
     "output_type": "stream",
     "text": [
      "['a' 'v' 'e' 'g']\n",
      "<class 'numpy.ndarray'>\n"
     ]
    },
    {
     "data": {
      "text/plain": [
       "dtype('<U1')"
      ]
     },
     "execution_count": 79,
     "metadata": {},
     "output_type": "execute_result"
    }
   ],
   "source": [
    "array=np.array(['a','v','e','g'])\n",
    "print(array)\n",
    "print(type(array))\n",
    "array.dtype "
   ]
  },
  {
   "cell_type": "code",
   "execution_count": 80,
   "id": "aad7a3a6-7b43-4cd6-b584-31314530d366",
   "metadata": {},
   "outputs": [
    {
     "name": "stdout",
     "output_type": "stream",
     "text": [
      "['asma' 'van' 'egg' 'goat']\n",
      "<class 'numpy.ndarray'>\n"
     ]
    },
    {
     "data": {
      "text/plain": [
       "dtype('<U4')"
      ]
     },
     "execution_count": 80,
     "metadata": {},
     "output_type": "execute_result"
    }
   ],
   "source": [
    "array=np.array(['asma','van','egg','goat'])\n",
    "print(array)\n",
    "print(type(array))\n",
    "array.dtype "
   ]
  },
  {
   "cell_type": "code",
   "execution_count": 81,
   "id": "b4fb837e-fb57-40bf-96c0-f37d2e215cf0",
   "metadata": {},
   "outputs": [
    {
     "name": "stdout",
     "output_type": "stream",
     "text": [
      "['1' '2' '3' 'van' 'egg' 'goat']\n",
      "<class 'numpy.ndarray'>\n"
     ]
    },
    {
     "data": {
      "text/plain": [
       "dtype('<U11')"
      ]
     },
     "execution_count": 81,
     "metadata": {},
     "output_type": "execute_result"
    }
   ],
   "source": [
    "array=np.array([1,2,3,'van','egg','goat'])\n",
    "print(array)\n",
    "print(type(array))\n",
    "array.dtype "
   ]
  },
  {
   "cell_type": "code",
   "execution_count": 83,
   "id": "75583e8e-d63a-4692-adc6-dd6ff5a2ce4a",
   "metadata": {},
   "outputs": [
    {
     "name": "stdout",
     "output_type": "stream",
     "text": [
      "int8\n"
     ]
    }
   ],
   "source": [
    "x=np.array([1,2,3,4],dtype = np.int8)\n",
    "print(x.dtype)"
   ]
  },
  {
   "cell_type": "markdown",
   "id": "d2efb9e6-49b6-4f9e-a5dd-3d0d629129e4",
   "metadata": {},
   "source": [
    "# convert data type integer to float"
   ]
  },
  {
   "cell_type": "code",
   "execution_count": 84,
   "id": "c55f5ad1-2b11-47eb-8d45-eb309181a9cc",
   "metadata": {},
   "outputs": [
    {
     "name": "stdout",
     "output_type": "stream",
     "text": [
      "float32\n",
      "[1. 2. 3. 4.]\n"
     ]
    }
   ],
   "source": [
    "x=np.array([1,2,3,4],dtype = 'f')\n",
    "print(x.dtype)\n",
    "print(x)"
   ]
  },
  {
   "cell_type": "code",
   "execution_count": 86,
   "id": "be4d9ea2-526d-461c-9a11-ff6693606085",
   "metadata": {},
   "outputs": [
    {
     "name": "stdout",
     "output_type": "stream",
     "text": [
      "object\n",
      "[1 2 3 4]\n"
     ]
    }
   ],
   "source": [
    "x=np.array([1,2,3,4],dtype = 'O')\n",
    "print(x.dtype)\n",
    "print(x)"
   ]
  },
  {
   "cell_type": "code",
   "execution_count": 90,
   "id": "57cc919a-75da-4eec-9d96-578f068d6c26",
   "metadata": {},
   "outputs": [
    {
     "name": "stdout",
     "output_type": "stream",
     "text": [
      "int32\n",
      "float16\n",
      "int16\n",
      "[1 2 3 4]\n",
      "[1. 2. 3. 4.]\n",
      "[1 2 3 4]\n"
     ]
    }
   ],
   "source": [
    "x=np.array([1,2,3,4])\n",
    "new=np.float16(x)\n",
    "new1=np.int16(new)\n",
    "print(x.dtype)\n",
    "print(new.dtype)\n",
    "print(new1.dtype)\n",
    "print(x)\n",
    "print(new)\n",
    "print(new1)"
   ]
  },
  {
   "cell_type": "code",
   "execution_count": 91,
   "id": "2d4e942f-ad95-4566-8b99-7d420c33238e",
   "metadata": {},
   "outputs": [
    {
     "name": "stdout",
     "output_type": "stream",
     "text": [
      "[1 2 3 4]\n",
      "[1. 2. 3. 4.]\n"
     ]
    }
   ],
   "source": [
    "x=np.array([1,2,3,4])\n",
    "new=x.astype(float)\n",
    "print(x)\n",
    "print(new)"
   ]
  },
  {
   "cell_type": "markdown",
   "id": "b85945ea-dbf9-4975-af03-74f7299ddb29",
   "metadata": {},
   "source": [
    "# airthematic operations"
   ]
  },
  {
   "cell_type": "code",
   "execution_count": 92,
   "id": "63ce8927-d765-4b0d-912c-9ae02f4f816b",
   "metadata": {},
   "outputs": [
    {
     "name": "stdout",
     "output_type": "stream",
     "text": [
      "[4 5 6 7 8 9]\n"
     ]
    }
   ],
   "source": [
    "a=np.array([1,2,3,4,5,6])\n",
    "add=a+3\n",
    "print(add)"
   ]
  },
  {
   "cell_type": "code",
   "execution_count": 93,
   "id": "4643cd52-f7fc-4c9f-b56f-fb2c3c9a87f3",
   "metadata": {},
   "outputs": [
    {
     "name": "stdout",
     "output_type": "stream",
     "text": [
      "[-2 -1  0  1  2  3]\n"
     ]
    }
   ],
   "source": [
    "a=np.array([1,2,3,4,5,6])\n",
    "sub=a-3\n",
    "print(sub)"
   ]
  },
  {
   "cell_type": "code",
   "execution_count": 98,
   "id": "7a8e372a-9d3b-4099-a200-3e6a1c6cbfca",
   "metadata": {},
   "outputs": [
    {
     "name": "stdout",
     "output_type": "stream",
     "text": [
      "[ 3  6  9 12 15 18]\n"
     ]
    }
   ],
   "source": [
    "a=np.array([1,2,3,4,5,6])\n",
    "mul=a*3\n",
    "print(mul)"
   ]
  },
  {
   "cell_type": "code",
   "execution_count": 97,
   "id": "9233e373-b667-47ea-a411-5f5247bc79d5",
   "metadata": {},
   "outputs": [
    {
     "name": "stdout",
     "output_type": "stream",
     "text": [
      "[0.33333333 0.66666667 1.         1.33333333 1.66666667 2.        ]\n"
     ]
    }
   ],
   "source": [
    "a=np.array([1,2,3,4,5,6])\n",
    "div=a/3\n",
    "print(div)"
   ]
  },
  {
   "cell_type": "code",
   "execution_count": 94,
   "id": "2109325b-6489-4afd-85ab-05b8d8cfe00e",
   "metadata": {},
   "outputs": [
    {
     "name": "stdout",
     "output_type": "stream",
     "text": [
      "[1 2 0 1 2 0]\n"
     ]
    }
   ],
   "source": [
    "a=np.array([1,2,3,4,5,6])\n",
    "mod=a%3\n",
    "print(mod)"
   ]
  },
  {
   "cell_type": "code",
   "execution_count": 95,
   "id": "ff8edac0-66b1-4a09-9e1c-51779eae03b9",
   "metadata": {},
   "outputs": [
    {
     "name": "stdout",
     "output_type": "stream",
     "text": [
      "[  1   8  27  64 125 216]\n"
     ]
    }
   ],
   "source": [
    "a=np.array([1,2,3,4,5,6])\n",
    "power=a**3\n",
    "print(power)"
   ]
  },
  {
   "cell_type": "code",
   "execution_count": 96,
   "id": "499b0c6a-6688-4d9f-bc25-e1ce37a87ed9",
   "metadata": {},
   "outputs": [
    {
     "name": "stdout",
     "output_type": "stream",
     "text": [
      "[1.         0.5        0.33333333 0.25       0.2        0.16666667]\n"
     ]
    }
   ],
   "source": [
    "a=np.array([1,2,3,4,5,6])\n",
    "reciprocal=1/a\n",
    "print(reciprocal)"
   ]
  },
  {
   "cell_type": "code",
   "execution_count": 110,
   "id": "d3a81c68-b2c4-4d90-9cdc-dd2ea0831c2c",
   "metadata": {},
   "outputs": [
    {
     "data": {
      "text/plain": [
       "array([-3, -1,  1,  3])"
      ]
     },
     "execution_count": 110,
     "metadata": {},
     "output_type": "execute_result"
    }
   ],
   "source": [
    "a=np.array([1,2,3,4])\n",
    "b=np.array([4,3,2,1])\n",
    "np.subtract(a,b)\n",
    " "
   ]
  },
  {
   "cell_type": "code",
   "execution_count": 111,
   "id": "7515bce9-9f37-4720-ab19-8ed5d1925bf0",
   "metadata": {},
   "outputs": [
    {
     "data": {
      "text/plain": [
       "array([4, 6, 6, 4])"
      ]
     },
     "execution_count": 111,
     "metadata": {},
     "output_type": "execute_result"
    }
   ],
   "source": [
    "a=np.array([1,2,3,4])\n",
    "b=np.array([4,3,2,1])\n",
    "np.multiply(a,b)"
   ]
  },
  {
   "cell_type": "code",
   "execution_count": 112,
   "id": "48fbe5f3-c647-44dc-8bd8-9c02a07fecc4",
   "metadata": {},
   "outputs": [
    {
     "data": {
      "text/plain": [
       "array([5, 5, 5, 5])"
      ]
     },
     "execution_count": 112,
     "metadata": {},
     "output_type": "execute_result"
    }
   ],
   "source": [
    "a=np.array([1,2,3,4])\n",
    "b=np.array([4,3,2,1])\n",
    "np.add(a,b)"
   ]
  },
  {
   "cell_type": "code",
   "execution_count": 113,
   "id": "bf61db87-7d69-4872-bd45-145fa5228117",
   "metadata": {},
   "outputs": [
    {
     "data": {
      "text/plain": [
       "array([0.25      , 0.66666667, 1.5       , 4.        ])"
      ]
     },
     "execution_count": 113,
     "metadata": {},
     "output_type": "execute_result"
    }
   ],
   "source": [
    "a=np.array([1,2,3,4])\n",
    "b=np.array([4,3,2,1])\n",
    "np.divide(a,b)"
   ]
  },
  {
   "cell_type": "code",
   "execution_count": 114,
   "id": "4cf4f5f0-9d96-473c-9141-3f14f02b9486",
   "metadata": {},
   "outputs": [
    {
     "data": {
      "text/plain": [
       "array([1, 2, 1, 0])"
      ]
     },
     "execution_count": 114,
     "metadata": {},
     "output_type": "execute_result"
    }
   ],
   "source": [
    "a=np.array([1,2,3,4])\n",
    "b=np.array([4,3,2,1])\n",
    "np.mod(a,b)"
   ]
  },
  {
   "cell_type": "code",
   "execution_count": 115,
   "id": "42f6f42e-2515-4789-8c48-0f2fb250197b",
   "metadata": {},
   "outputs": [
    {
     "data": {
      "text/plain": [
       "array([1, 8, 9, 4])"
      ]
     },
     "execution_count": 115,
     "metadata": {},
     "output_type": "execute_result"
    }
   ],
   "source": [
    "a=np.array([1,2,3,4])\n",
    "b=np.array([4,3,2,1])\n",
    "np.power(a,b)"
   ]
  },
  {
   "cell_type": "code",
   "execution_count": 120,
   "id": "be7840a5-6b1b-4b23-afab-8d0beb1b65bd",
   "metadata": {},
   "outputs": [
    {
     "name": "stdout",
     "output_type": "stream",
     "text": [
      "[1.         0.35714286 0.33333333 0.25      ]\n",
      "[0.25       0.33333333 0.5        1.        ]\n"
     ]
    }
   ],
   "source": [
    "a=np.array([1,2.8,3,4])\n",
    "b=np.array([4.0,3,2,1])\n",
    "aa=np.reciprocal(a)\n",
    "bb=np.reciprocal(b)\n",
    "print(aa)\n",
    "print(bb)"
   ]
  },
  {
   "cell_type": "markdown",
   "id": "d9586822-c24a-4271-afcd-477ebf57a7f0",
   "metadata": {},
   "source": [
    "# 2D Array"
   ]
  },
  {
   "cell_type": "code",
   "execution_count": 124,
   "id": "6f0f11b9-7805-4071-ad7b-70d6498ce994",
   "metadata": {},
   "outputs": [
    {
     "name": "stdout",
     "output_type": "stream",
     "text": [
      "[[1 2 3 4]\n",
      " [3 4 5 6]]\n",
      "[[1 2 3 4]\n",
      " [3 4 5 6]]\n"
     ]
    }
   ],
   "source": [
    "v1=np.array([[1,2,3,4],[3,4,5,6]])\n",
    "v2=np.array([[1,2,3,4],[3,4,5,6]])\n",
    "print(v1)\n",
    "print(v2)\n",
    "add=v1+v2\n",
    "print(\" \")\n",
    "print(add)"
   ]
  },
  {
   "cell_type": "code",
   "execution_count": 125,
   "id": "04ab6fba-847c-4322-92ad-3ed3a567760b",
   "metadata": {},
   "outputs": [
    {
     "name": "stdout",
     "output_type": "stream",
     "text": [
      "[[1 2 3 4]\n",
      " [3 4 5 6]]\n",
      "[[1 2 3 4]\n",
      " [3 4 5 6]]\n",
      " \n",
      "[[0 0 0 0]\n",
      " [0 0 0 0]]\n"
     ]
    }
   ],
   "source": [
    "v1=np.array([[1,2,3,4],[3,4,5,6]])\n",
    "v2=np.array([[1,2,3,4],[3,4,5,6]])\n",
    "print(v1)\n",
    "print(v2)\n",
    "sub=v1-v2\n",
    "print(\" \")\n",
    "print(sub)"
   ]
  },
  {
   "cell_type": "code",
   "execution_count": 126,
   "id": "476310b1-3597-4581-aaf9-44279918bec6",
   "metadata": {},
   "outputs": [
    {
     "name": "stdout",
     "output_type": "stream",
     "text": [
      "[[1 2 3 4]\n",
      " [3 4 5 6]]\n",
      "[[1 2 3 4]\n",
      " [3 4 5 6]]\n",
      " \n",
      "[[ 1  4  9 16]\n",
      " [ 9 16 25 36]]\n"
     ]
    }
   ],
   "source": [
    "v1=np.array([[1,2,3,4],[3,4,5,6]])\n",
    "v2=np.array([[1,2,3,4],[3,4,5,6]])\n",
    "print(v1)\n",
    "print(v2)\n",
    "mul=v1*v2\n",
    "print(\" \")\n",
    "print(mul)"
   ]
  },
  {
   "cell_type": "code",
   "execution_count": 127,
   "id": "c6b5800b-2d56-4d93-9422-953f8ee02c01",
   "metadata": {},
   "outputs": [
    {
     "name": "stdout",
     "output_type": "stream",
     "text": [
      "[[1 2 3 4]\n",
      " [3 4 5 6]]\n",
      "[[1 2 3 4]\n",
      " [3 4 5 6]]\n",
      " \n",
      "[[1. 1. 1. 1.]\n",
      " [1. 1. 1. 1.]]\n"
     ]
    }
   ],
   "source": [
    "v1=np.array([[1,2,3,4],[3,4,5,6]])\n",
    "v2=np.array([[1,2,3,4],[3,4,5,6]])\n",
    "print(v1)\n",
    "print(v2)\n",
    "div=v1/v2\n",
    "print(\" \")\n",
    "print(div)"
   ]
  },
  {
   "cell_type": "code",
   "execution_count": 128,
   "id": "6f9972eb-8c30-4511-8824-57a8e00cacc3",
   "metadata": {},
   "outputs": [
    {
     "name": "stdout",
     "output_type": "stream",
     "text": [
      "[[1 2 3 4]\n",
      " [3 4 5 6]]\n",
      "[[1 2 3 4]\n",
      " [3 4 5 6]]\n",
      " \n",
      "[[0 0 0 0]\n",
      " [0 0 0 0]]\n"
     ]
    }
   ],
   "source": [
    "v1=np.array([[1,2,3,4],[3,4,5,6]])\n",
    "v2=np.array([[1,2,3,4],[3,4,5,6]])\n",
    "print(v1)\n",
    "print(v2)\n",
    "mod=v1%v2\n",
    "print(\" \")\n",
    "print(mod)"
   ]
  },
  {
   "cell_type": "code",
   "execution_count": null,
   "id": "03b7231e-2787-45e0-b8ba-4d543749d0cc",
   "metadata": {},
   "outputs": [],
   "source": [
    "v1=np.array([[1,2,3,4],[3,4,5,6]])\n",
    "v2=np.array([[1,2,3,4],[3,4,5,6]])\n",
    "print(v1)\n",
    "print(v2)\n",
    "power=v1**v2\n",
    "print(\" \")\n",
    "print(power)"
   ]
  },
  {
   "cell_type": "code",
   "execution_count": 129,
   "id": "823b164d-11e0-4e7c-bb62-972e54c07122",
   "metadata": {},
   "outputs": [
    {
     "name": "stdout",
     "output_type": "stream",
     "text": [
      "[[1 2 3 4]\n",
      " [3 4 5 6]]\n",
      "[[1 2 3 4]\n",
      " [3 4 5 6]]\n",
      " \n",
      "[[1.         0.5        0.33333333 0.25      ]\n",
      " [0.33333333 0.25       0.2        0.16666667]]\n",
      "[[1.         0.5        0.33333333 0.25      ]\n",
      " [0.33333333 0.25       0.2        0.16666667]]\n"
     ]
    }
   ],
   "source": [
    "v1=np.array([[1,2,3,4],[3,4,5,6]])\n",
    "v2=np.array([[1,2,3,4],[3,4,5,6]])\n",
    "print(v1)\n",
    "print(v2)\n",
    "rec1=1/v1\n",
    "rec2=1/v2\n",
    "print(\" \")\n",
    "print(rec1)\n",
    "print(rec2)"
   ]
  },
  {
   "cell_type": "markdown",
   "id": "7326d986-6215-49c6-bf5e-f5d6d9e6b0c7",
   "metadata": {},
   "source": [
    "# Airthematic Functions"
   ]
  },
  {
   "cell_type": "code",
   "execution_count": 130,
   "id": "ccc1cf62-994c-4650-9e16-14d2fad1c222",
   "metadata": {},
   "outputs": [
    {
     "name": "stdout",
     "output_type": "stream",
     "text": [
      "0\n"
     ]
    }
   ],
   "source": [
    "v=np.array([1,2,3,4,5,6,7,8,9,0])\n",
    "print(np.min(v))"
   ]
  },
  {
   "cell_type": "code",
   "execution_count": 131,
   "id": "c1bfbccc-f491-41ab-bc13-667e17f8e6a7",
   "metadata": {},
   "outputs": [
    {
     "name": "stdout",
     "output_type": "stream",
     "text": [
      "9\n"
     ]
    }
   ],
   "source": [
    "v=np.array([1,2,3,4,5,6,7,8,9,0])\n",
    "print(np.max(v))"
   ]
  },
  {
   "cell_type": "code",
   "execution_count": 132,
   "id": "4650c100-015e-4971-b30e-f99ac7e0ab92",
   "metadata": {},
   "outputs": [
    {
     "name": "stdout",
     "output_type": "stream",
     "text": [
      "9\n"
     ]
    }
   ],
   "source": [
    "v=np.array([1,2,3,4,5,6,7,8,9,0])\n",
    "print(np.argmin(v))"
   ]
  },
  {
   "cell_type": "code",
   "execution_count": 135,
   "id": "4e2a3aa2-9b8b-453c-9a77-e972d368a087",
   "metadata": {},
   "outputs": [
    {
     "name": "stdout",
     "output_type": "stream",
     "text": [
      "8\n"
     ]
    }
   ],
   "source": [
    "v=np.array([1,2,3,4,5,6,7,8,9,0])\n",
    "print(np.argmax(v))"
   ]
  },
  {
   "cell_type": "code",
   "execution_count": 133,
   "id": "23f5ae58-5563-458f-8d28-6d44440cd5d6",
   "metadata": {},
   "outputs": [
    {
     "name": "stdout",
     "output_type": "stream",
     "text": [
      "[1.         1.41421356 1.73205081 2.         2.23606798 2.44948974\n",
      " 2.64575131 2.82842712 3.         0.        ]\n"
     ]
    }
   ],
   "source": [
    "v=np.array([1,2,3,4,5,6,7,8,9,0])\n",
    "print(np.sqrt(v))"
   ]
  },
  {
   "cell_type": "code",
   "execution_count": 134,
   "id": "cde81939-dfab-4a12-9edd-7dc298e26f08",
   "metadata": {},
   "outputs": [
    {
     "name": "stdout",
     "output_type": "stream",
     "text": [
      "[ 0.84147098  0.90929743  0.14112001 -0.7568025  -0.95892427 -0.2794155\n",
      "  0.6569866   0.98935825  0.41211849  0.        ]\n"
     ]
    }
   ],
   "source": [
    "v=np.array([1,2,3,4,5,6,7,8,9,0])\n",
    "print(np.sin(v))"
   ]
  },
  {
   "cell_type": "code",
   "execution_count": 136,
   "id": "00f1f00f-6440-46be-af72-7fc14a5bf433",
   "metadata": {},
   "outputs": [
    {
     "name": "stdout",
     "output_type": "stream",
     "text": [
      "[ 0.54030231 -0.41614684 -0.9899925  -0.65364362  0.28366219  0.96017029\n",
      "  0.75390225 -0.14550003 -0.91113026  1.        ]\n"
     ]
    }
   ],
   "source": [
    "v=np.array([1,2,3,4,5,6,7,8,9,0])\n",
    "print(np.cos(v))"
   ]
  },
  {
   "cell_type": "code",
   "execution_count": 137,
   "id": "5d663e58-ccaf-4594-85d1-2187d9c6bb9e",
   "metadata": {},
   "outputs": [
    {
     "name": "stdout",
     "output_type": "stream",
     "text": [
      "[ 1  3  6 10 15 21 28 36 45 45]\n"
     ]
    }
   ],
   "source": [
    "v=np.array([1,2,3,4,5,6,7,8,9,0])\n",
    "print(np.cumsum(v))"
   ]
  },
  {
   "cell_type": "code",
   "execution_count": null,
   "id": "1568a9a3-3c0d-46a5-b556-0924f706a0a5",
   "metadata": {},
   "outputs": [],
   "source": [
    "v1=np.array([[1,2,3,4,4],[3,4,5,6,7]])\n",
    "print(np.min(v1,))"
   ]
  },
  {
   "cell_type": "markdown",
   "id": "4d9f3316-5201-488d-ad00-9f06db522911",
   "metadata": {},
   "source": [
    "# shape"
   ]
  },
  {
   "cell_type": "code",
   "execution_count": 140,
   "id": "89d60110-6122-4522-b83b-4ed62839fe01",
   "metadata": {},
   "outputs": [
    {
     "name": "stdout",
     "output_type": "stream",
     "text": [
      "[[[ 1  2  3  3]\n",
      "  [ 3  5 67  7]]]\n",
      "(1, 2, 4)\n"
     ]
    }
   ],
   "source": [
    "var=np.array([[[1,2,3,3],[3,5,67,7]]])\n",
    "print(var)\n",
    "print(var.shape)"
   ]
  },
  {
   "cell_type": "code",
   "execution_count": 158,
   "id": "d68eddf2-b027-4777-bc94-6a6f75bee063",
   "metadata": {},
   "outputs": [
    {
     "name": "stdout",
     "output_type": "stream",
     "text": [
      "[[[[[1 2 3 4]]]]]\n",
      "5\n",
      " \n",
      "(1, 1, 1, 1, 4)\n"
     ]
    }
   ],
   "source": [
    "var1=np.array([1,2,3,4], ndmin=5)\n",
    "print(var1)\n",
    "print(var1.ndim)\n",
    "print(\" \")\n",
    "print(var1.shape)"
   ]
  },
  {
   "cell_type": "markdown",
   "id": "8542c516-dbf7-490a-ad1a-d1b74b2a90bb",
   "metadata": {},
   "source": [
    "# Reshape"
   ]
  },
  {
   "cell_type": "code",
   "execution_count": 159,
   "id": "3c2ddec6-455f-43b1-92f5-7b122f25f1ed",
   "metadata": {},
   "outputs": [
    {
     "name": "stdout",
     "output_type": "stream",
     "text": [
      "[1 2 3 4 5 6]\n",
      "[[1 2]\n",
      " [3 4]\n",
      " [5 6]]\n",
      "2\n"
     ]
    }
   ],
   "source": [
    "var2=np.array([1,2,3,4,5,6])\n",
    "print(var2)\n",
    "x=var2.reshape(3,2)\n",
    "print(x)\n",
    "print(x.ndim)"
   ]
  },
  {
   "cell_type": "code",
   "execution_count": 160,
   "id": "86c28f08-5fc1-49c4-8efd-7ec5b9e8fee5",
   "metadata": {},
   "outputs": [
    {
     "name": "stdout",
     "output_type": "stream",
     "text": [
      "[  1   2   3   4   5   6   7   8   9  10  11 122]\n",
      "[[[  1   2   3]\n",
      "  [  4   5   6]]\n",
      "\n",
      " [[  7   8   9]\n",
      "  [ 10  11 122]]]\n",
      "3\n"
     ]
    }
   ],
   "source": [
    "var2=np.array([1,2,3,4,5,6,7,8,9,10,11,122])\n",
    "print(var2)\n",
    "x=var2.reshape(2,2,3)\n",
    "print(x)\n",
    "print(x.ndim)"
   ]
  },
  {
   "cell_type": "code",
   "execution_count": 161,
   "id": "43e2d2f6-67ec-40a2-9e0c-db10e42d9e72",
   "metadata": {},
   "outputs": [
    {
     "name": "stdout",
     "output_type": "stream",
     "text": [
      "[  1   2   3   4   5   6   7   8   9  10  11 122]\n",
      "[[[  1   2   3]\n",
      "  [  4   5   6]]\n",
      "\n",
      " [[  7   8   9]\n",
      "  [ 10  11 122]]]\n",
      "3\n",
      "[  1   2   3   4   5   6   7   8   9  10  11 122]\n",
      "1\n"
     ]
    }
   ],
   "source": [
    "var2=np.array([1,2,3,4,5,6,7,8,9,10,11,122])\n",
    "print(var2)\n",
    "x=var2.reshape(2,2,3)\n",
    "print(x)\n",
    "print(x.ndim)\n",
    "one=x.reshape(-1)\n",
    "print(one)\n",
    "print(one.ndim)"
   ]
  },
  {
   "cell_type": "code",
   "execution_count": 166,
   "id": "6bc03b04-388e-42b6-88a5-18cb5cbdc787",
   "metadata": {},
   "outputs": [
    {
     "name": "stdout",
     "output_type": "stream",
     "text": [
      "(5,)\n",
      "\n",
      "[1 2 3 4 5]\n",
      "\n",
      "(5, 1)\n",
      "\n",
      "[[1]\n",
      " [2]\n",
      " [3]\n",
      " [4]\n",
      " [5]]\n",
      "[[ 2  3  4  5  6]\n",
      " [ 3  4  5  6  7]\n",
      " [ 4  5  6  7  8]\n",
      " [ 5  6  7  8  9]\n",
      " [ 6  7  8  9 10]]\n"
     ]
    }
   ],
   "source": [
    "var1=np.array([1,2,3,4,5])\n",
    "print(var1.shape)\n",
    "print()\n",
    "print(var1)\n",
    "print()\n",
    "\n",
    "var2=np.array([[1],[2],[3],[4],[5]])\n",
    "print(var2.shape)\n",
    "print()\n",
    "print(var2)\n",
    "print(var1+var2)"
   ]
  },
  {
   "cell_type": "code",
   "execution_count": 169,
   "id": "1c681b88-fa2e-462d-ab57-3d3a18e4a14c",
   "metadata": {},
   "outputs": [
    {
     "name": "stdout",
     "output_type": "stream",
     "text": [
      "[[[1 2]\n",
      "  [2 3]]\n",
      "\n",
      " [[1 2]\n",
      "  [3 4]]]\n"
     ]
    }
   ],
   "source": [
    "a=np.array([[[1,2],[2,3]],[[1,2],[3,4]]])\n",
    "print(a)"
   ]
  },
  {
   "cell_type": "markdown",
   "id": "e5e4a327-9aa1-441b-81a5-1ce459092094",
   "metadata": {},
   "source": [
    "# indexing"
   ]
  },
  {
   "cell_type": "code",
   "execution_count": 171,
   "id": "20ae3169-aa8c-4c3d-b0a5-4e2bed9f768f",
   "metadata": {},
   "outputs": [
    {
     "name": "stdout",
     "output_type": "stream",
     "text": [
      "4\n",
      "3\n"
     ]
    }
   ],
   "source": [
    "v=np.array([1,2,3,4,5])\n",
    "print(v[3])\n",
    "print(v[-3])"
   ]
  },
  {
   "cell_type": "code",
   "execution_count": 173,
   "id": "cc097393-57d2-4ddd-9d33-84e535e5e1b0",
   "metadata": {},
   "outputs": [
    {
     "name": "stdout",
     "output_type": "stream",
     "text": [
      "5\n",
      "2\n"
     ]
    }
   ],
   "source": [
    "v=np.array([[1,2,3],[4,5,6]])\n",
    "print(v[1][1])\n",
    "print(v.ndim)"
   ]
  },
  {
   "cell_type": "code",
   "execution_count": 179,
   "id": "f6c5d663-9107-49b8-baef-d291cd86057a",
   "metadata": {},
   "outputs": [
    {
     "name": "stdout",
     "output_type": "stream",
     "text": [
      "[[[1 2]\n",
      "  [3 4]]\n",
      "\n",
      " [[3 4]\n",
      "  [3 4]]]\n",
      "4\n",
      "3\n"
     ]
    }
   ],
   "source": [
    "v=np.array([[[1,2],[3,4]],[[3,4],[3,4]]])\n",
    "print(v)\n",
    "print(v[1][1][1])\n",
    "print(v.ndim)"
   ]
  },
  {
   "cell_type": "markdown",
   "id": "c7f1b5e1-d3be-4e21-b564-5e9543ddb926",
   "metadata": {},
   "source": [
    "# Slicing"
   ]
  },
  {
   "cell_type": "code",
   "execution_count": 182,
   "id": "29bfcf47-e470-4578-ba02-f8dcde505b0b",
   "metadata": {},
   "outputs": [
    {
     "name": "stdout",
     "output_type": "stream",
     "text": [
      "[1 2 3 4 5 6]\n",
      "\n",
      "[2 3 4]\n",
      "[3 4 5 6]\n",
      "[1 2 3 4]\n"
     ]
    }
   ],
   "source": [
    "var=np.array([1,2,3,4,5,6])\n",
    "print(var)\n",
    "print()\n",
    "print(var[1:4])\n",
    "print(var[2:])\n",
    "print(var[:4])"
   ]
  },
  {
   "cell_type": "code",
   "execution_count": 186,
   "id": "0a7d55e5-abec-4046-b328-d5fa1b2c6f12",
   "metadata": {},
   "outputs": [
    {
     "name": "stdout",
     "output_type": "stream",
     "text": [
      "[1 2 3 4 5 6]\n",
      "\n",
      "[1 4]\n"
     ]
    }
   ],
   "source": [
    "var=np.array([1,2,3,4,5,6])\n",
    "print(var)\n",
    "print()\n",
    "print(var[ : :3])"
   ]
  },
  {
   "cell_type": "code",
   "execution_count": 192,
   "id": "2f5d7f3e-69b9-45ac-b4f7-98d60b3b0ee5",
   "metadata": {},
   "outputs": [
    {
     "name": "stdout",
     "output_type": "stream",
     "text": [
      "[[1 2 3 4 5 6]\n",
      " [2 3 4 5 6 7]\n",
      " [1 2 3 4 5 6]]\n",
      "[2 3 4 5 6]\n",
      "[3]\n"
     ]
    }
   ],
   "source": [
    "var=np.array([[1,2,3,4,5,6],[2,3,4,5,6,7],[1,2,3,4,5,6]])\n",
    " \n",
    "print(var)\n",
    "print(var[2,1:])\n",
    "print(var[ : :3,2])"
   ]
  },
  {
   "cell_type": "markdown",
   "id": "efcc9f1c-8ee8-40bd-ac4f-4513de51cadf",
   "metadata": {},
   "source": [
    "# Iterating Numpy Array"
   ]
  },
  {
   "cell_type": "code",
   "execution_count": 195,
   "id": "cd9059d7-c381-4e2c-b2d0-70905b43d719",
   "metadata": {},
   "outputs": [
    {
     "name": "stdout",
     "output_type": "stream",
     "text": [
      "1\n",
      "2\n",
      "3\n",
      "4\n",
      "5\n",
      "556\n",
      "7\n",
      "[  1   2   3   4   5 556   7]\n"
     ]
    }
   ],
   "source": [
    "x=np.array([1,2,3,4,5,556,7])\n",
    "for i in x:\n",
    "    print(i)\n",
    "print(x)"
   ]
  },
  {
   "cell_type": "code",
   "execution_count": 200,
   "id": "39fe4e98-5820-4a22-a116-9b325ea9f963",
   "metadata": {},
   "outputs": [
    {
     "name": "stdout",
     "output_type": "stream",
     "text": [
      "[[1 2 3 4]\n",
      " [5 6 7 8]]\n",
      "\n",
      "[[1 2 3 4]\n",
      " [5 6 7 8]]\n",
      "[[1 2 3 4]\n",
      " [5 6 7 8]]\n",
      "1\n",
      "2\n",
      "3\n",
      "4\n",
      "5\n",
      "6\n",
      "7\n",
      "8\n"
     ]
    }
   ],
   "source": [
    "y=np.array([[1,2,3,4],[5,6,7,8]])\n",
    "print(y)\n",
    "print()\n",
    "for i in y:\n",
    "    print(y)\n",
    "\n",
    "for k in y:\n",
    "    for l in k:\n",
    "        print(l)"
   ]
  },
  {
   "cell_type": "code",
   "execution_count": null,
   "id": "8b2c827b-03da-42de-b22e-05bfd0231004",
   "metadata": {},
   "outputs": [],
   "source": []
  },
  {
   "cell_type": "code",
   "execution_count": 207,
   "id": "5fa944d0-9337-4987-ba3f-d87bee81dc68",
   "metadata": {},
   "outputs": [
    {
     "name": "stdout",
     "output_type": "stream",
     "text": [
      "[[[1 2 3 4]\n",
      "  [1 2 3 4]]]\n",
      "3\n",
      "\n",
      "1\n",
      "2\n",
      "3\n",
      "4\n",
      "1\n",
      "2\n",
      "3\n",
      "4\n"
     ]
    }
   ],
   "source": [
    "z=np.array([[[1,2,3,4],[1,2,3,4]]])\n",
    "print(z)\n",
    "print(z.ndim)\n",
    "print()\n",
    "for i in z:\n",
    "    for j in i:\n",
    "        for k in j:\n",
    "            print(k)"
   ]
  },
  {
   "cell_type": "code",
   "execution_count": 215,
   "id": "edef4355-4c35-4ffe-86c2-27178f439b5e",
   "metadata": {},
   "outputs": [
    {
     "name": "stdout",
     "output_type": "stream",
     "text": [
      "[[[1 2 3 4]\n",
      "  [1 2 3 4]]]\n",
      "3\n",
      "\n",
      "1\n",
      "1\n",
      "2\n",
      "2\n",
      "3\n",
      "3\n",
      "4\n",
      "4\n",
      "1\n",
      "1\n",
      "2\n",
      "2\n",
      "3\n",
      "3\n",
      "4\n",
      "4\n"
     ]
    }
   ],
   "source": [
    "z=np.array([[[1,2,3,4],[1,2,3,4]]])\n",
    "print(z)\n",
    "print(z.ndim)\n",
    "print()\n",
    "for i in np.nditer(z):\n",
    "    print(i)\n",
    "    print(i)"
   ]
  },
  {
   "cell_type": "code",
   "execution_count": 219,
   "id": "e771318b-d99a-4217-8c19-8ec24a1f27f7",
   "metadata": {},
   "outputs": [
    {
     "name": "stdout",
     "output_type": "stream",
     "text": [
      "[[[1 2 3 4]\n",
      "  [1 2 3 4]]]\n",
      "3\n",
      "\n",
      "(0, 0, 0) 1\n",
      "(0, 0, 1) 2\n",
      "(0, 0, 2) 3\n",
      "(0, 0, 3) 4\n",
      "(0, 1, 0) 1\n",
      "(0, 1, 1) 2\n",
      "(0, 1, 2) 3\n",
      "(0, 1, 3) 4\n"
     ]
    }
   ],
   "source": [
    "z=np.array([[[1,2,3,4],[1,2,3,4]]])\n",
    "print(z)\n",
    "print(z.ndim)\n",
    "print()\n",
    "\n",
    "for i,d in np.ndenumerate(z):\n",
    "    print(i,d)"
   ]
  },
  {
   "cell_type": "markdown",
   "id": "5cff8a68-03a6-4af1-bcc1-da9934c7a31b",
   "metadata": {},
   "source": [
    "# copy VS View"
   ]
  },
  {
   "cell_type": "code",
   "execution_count": 225,
   "id": "6e51881c-c112-4f49-9464-62d9542b5f6e",
   "metadata": {},
   "outputs": [
    {
     "name": "stdout",
     "output_type": "stream",
     "text": [
      "a= [1 2 3 4 5 6 7]\n",
      "copy= [1 2 3 4 5 6 7]\n",
      "View= [1 2 3 4 5 6 7]\n"
     ]
    }
   ],
   "source": [
    "a=np.array([1,2,3,4,5,6,7])\n",
    "copy=a.copy()\n",
    "print(\"a=\",a)\n",
    "print(\"copy=\",copy)\n",
    "view=a.view()\n",
    "print(\"View=\",view)\n",
    "\n"
   ]
  },
  {
   "cell_type": "code",
   "execution_count": 228,
   "id": "80e6be46-84da-41f2-be53-08f08fbd6bcf",
   "metadata": {},
   "outputs": [
    {
     "name": "stdout",
     "output_type": "stream",
     "text": [
      "a= [ 1  2 40  4  5  6  7]\n",
      "copy= [1 2 3 4 5 6 7]\n"
     ]
    }
   ],
   "source": [
    "a=np.array([1,2,3,4,5,6,7])\n",
    "copy=a.copy()\n",
    "a[2]=40\n",
    "print(\"a=\",a)\n",
    "print(\"copy=\",copy)\n",
    " "
   ]
  },
  {
   "cell_type": "code",
   "execution_count": 229,
   "id": "44914c3c-de05-4942-89e6-55d8d95638bf",
   "metadata": {},
   "outputs": [
    {
     "name": "stdout",
     "output_type": "stream",
     "text": [
      "a= [ 1  2 40  4  5  6  7]\n",
      "View= [ 1  2 40  4  5  6  7]\n"
     ]
    }
   ],
   "source": [
    "a=np.array([1,2,3,4,5,6,7])\n",
    "view=a.view()\n",
    "a[2]=40\n",
    "print(\"a=\",a)\n",
    "print(\"View=\",view)\n",
    "a[2]=40"
   ]
  },
  {
   "cell_type": "markdown",
   "id": "fb4628b0-0498-4f1a-8c0f-25f7190dab68",
   "metadata": {},
   "source": [
    "# Join Array"
   ]
  },
  {
   "cell_type": "code",
   "execution_count": 231,
   "id": "67f6f647-105b-4c81-ae88-09fdf01c23f9",
   "metadata": {},
   "outputs": [
    {
     "name": "stdout",
     "output_type": "stream",
     "text": [
      "[1 2 3 4 5 5 6 7 8 9]\n"
     ]
    }
   ],
   "source": [
    "a=np.array([1,2,3,4,5])\n",
    "b=np.array([5,6,7,8,9])\n",
    "c=np.concatenate((a,b))\n",
    "print(c)"
   ]
  },
  {
   "cell_type": "code",
   "execution_count": 237,
   "id": "fd4fa34b-bc65-4692-9c1e-756ada87822c",
   "metadata": {},
   "outputs": [
    {
     "name": "stdout",
     "output_type": "stream",
     "text": [
      "[[1 2 3]\n",
      " [3 4 5]]\n",
      "\n",
      "[[5 6 7]\n",
      " [0 8 9]]\n",
      "\n",
      "[[1 2 3]\n",
      " [3 4 5]\n",
      " [5 6 7]\n",
      " [0 8 9]]\n",
      "\n",
      "\n",
      "[[1 2 3]\n",
      " [3 4 5]\n",
      " [5 6 7]\n",
      " [0 8 9]]\n",
      "\n",
      "\n",
      "[[1 2 3 5 6 7]\n",
      " [3 4 5 0 8 9]]\n"
     ]
    }
   ],
   "source": [
    "a=np.array([[1,2,3],[3,4,5]])\n",
    "b=np.array([[5,6,7],[0,8,9]])\n",
    "print(a)\n",
    "print()\n",
    "print(b)\n",
    "print()\n",
    "c=np.concatenate((a,b))\n",
    "print(c)\n",
    "print()\n",
    "print()\n",
    "c=np.concatenate((a,b),axis=0)\n",
    "print(c)\n",
    "print()\n",
    "print()\n",
    "c=np.concatenate((a,b),axis=1)\n",
    "print(c)"
   ]
  },
  {
   "cell_type": "code",
   "execution_count": 242,
   "id": "3cc1c972-ef6a-43e1-8621-54b82f17f9ef",
   "metadata": {},
   "outputs": [
    {
     "name": "stdout",
     "output_type": "stream",
     "text": [
      "[1 2 3 8]\n",
      "\n",
      "[5 6 7 9]\n",
      "\n",
      "[[1 5]\n",
      " [2 6]\n",
      " [3 7]\n",
      " [8 9]]\n",
      "\n",
      "[[1 2 3 8]\n",
      " [5 6 7 9]]\n"
     ]
    }
   ],
   "source": [
    "a=np.array([1,2,3,8])\n",
    "b=np.array([5,6,7,9])\n",
    "print(a)\n",
    "print()\n",
    "print(b)\n",
    "print()\n",
    "c=np.stack((a,b),axis=1)\n",
    "print(c)\n",
    "print()\n",
    "c=np.stack((a,b),axis=0)\n",
    "print(c)"
   ]
  },
  {
   "cell_type": "code",
   "execution_count": 244,
   "id": "a0d904d8-ce1c-4b8a-b999-088f93e670ea",
   "metadata": {},
   "outputs": [
    {
     "name": "stdout",
     "output_type": "stream",
     "text": [
      "[1 2 3 8]\n",
      "\n",
      "[5 6 7 9]\n",
      "\n",
      "[1 2 3 8 5 6 7 9]\n",
      "\n",
      "[[[1 5]\n",
      "  [2 6]\n",
      "  [3 7]\n",
      "  [8 9]]]\n",
      "[[1 2 3 8]\n",
      " [5 6 7 9]]\n",
      "\n",
      "[1 2 3 8 5 6 7 9]\n",
      "\n",
      "[[[1 5]\n",
      "  [2 6]\n",
      "  [3 7]\n",
      "  [8 9]]]\n"
     ]
    }
   ],
   "source": [
    "a=np.array([1,2,3,8])\n",
    "b=np.array([5,6,7,9])\n",
    "print(a)\n",
    "print()\n",
    "print(b)\n",
    "print()\n",
    "print(c)\n",
    "print()\n",
    "c=np.dstack((a,b))   # height\n",
    "print(c)\n",
    "c=np.vstack((a,b))   #column\n",
    "print(c)\n",
    "print()\n",
    "c=np.hstack((a,b))    #row\n",
    "print(c)\n",
    "print()\n",
    "c=np.dstack((a,b))\n",
    "print(c)"
   ]
  },
  {
   "cell_type": "markdown",
   "id": "037e8c7a-0b66-4641-aefd-0314bbfc829e",
   "metadata": {},
   "source": [
    "  # Split Array"
   ]
  },
  {
   "cell_type": "code",
   "execution_count": 259,
   "id": "1084a721-4404-4b15-b204-aba05f19df9f",
   "metadata": {},
   "outputs": [
    {
     "name": "stdout",
     "output_type": "stream",
     "text": [
      "[1 2 3 4 6 7]\n",
      "[array([1, 2, 3]), array([4, 6, 7])]\n",
      "[array([1, 2]), array([3, 4]), array([6, 7])]\n",
      "<class 'list'>\n",
      "[6 7]\n"
     ]
    }
   ],
   "source": [
    "a = np.array([1,2,3,4,6,7])\n",
    "print(a)\n",
    "\n",
    "asplit = np.array_split(a,2)\n",
    "print(asplit)\n",
    "asplit = np.array_split(a,3)\n",
    "print(asplit)\n",
    "print(type(asplit))\n",
    "print(asplit[2])"
   ]
  },
  {
   "cell_type": "code",
   "execution_count": 265,
   "id": "4030e4e6-0e1e-426c-9ec8-481677542b45",
   "metadata": {},
   "outputs": [
    {
     "name": "stdout",
     "output_type": "stream",
     "text": [
      "[[1 2 3 4 6 7]\n",
      " [5 6 7 8 9 0]]\n",
      "[array([[1, 2, 3, 4, 6, 7]]), array([[5, 6, 7, 8, 9, 0]])]\n",
      "[array([[1, 2, 3],\n",
      "       [5, 6, 7]]), array([[4, 6, 7],\n",
      "       [8, 9, 0]])]\n",
      "[array([[1, 2, 3, 4, 6, 7]]), array([[5, 6, 7, 8, 9, 0]])]\n"
     ]
    }
   ],
   "source": [
    "a = np.array([[1,2,3,4,6,7],[5,6,7,8,9,0]])\n",
    "print(a)\n",
    "\n",
    "asplit = np.array_split(a,2)\n",
    "print(asplit)\n",
    "asplit = np.array_split(a,2,axis=1)\n",
    "print(asplit)\n",
    "asplit = np.array_split(a,2,axis=0)\n",
    "print(asplit)\n",
    "# print(type(asplit))\n",
    "# print(asplit[2])"
   ]
  },
  {
   "cell_type": "markdown",
   "id": "a432027d-4fee-4272-ad10-273aa6326cea",
   "metadata": {},
   "source": [
    "# Numpy Array Function"
   ]
  },
  {
   "cell_type": "code",
   "execution_count": 267,
   "id": "6c033d49-f6db-4c55-8cfd-73a8ede43ffc",
   "metadata": {},
   "outputs": [],
   "source": [
    "# search"
   ]
  },
  {
   "cell_type": "code",
   "execution_count": 275,
   "id": "54f5692e-25ac-4c87-b881-6c2a69e232e0",
   "metadata": {},
   "outputs": [
    {
     "name": "stdout",
     "output_type": "stream",
     "text": [
      "(array([3, 7], dtype=int64),)\n",
      "(array([1, 8], dtype=int64),)\n",
      "(array([], dtype=int64),)\n",
      "(array([1, 3, 5, 7, 8, 9], dtype=int64),)\n"
     ]
    }
   ],
   "source": [
    "a=np.array([1,2,3,4,5,6,3,4,2,6,3])\n",
    "search=np.where(a/2==2)\n",
    "print(search)\n",
    "search=np.where(a==2)\n",
    "print(search)\n",
    "search=np.where(a/4==0)\n",
    "print(search)\n",
    "search=np.where(a%2==0)\n",
    "print(search)"
   ]
  },
  {
   "cell_type": "code",
   "execution_count": 276,
   "id": "9ccd88e1-3965-45ff-9178-fe23b92c3530",
   "metadata": {},
   "outputs": [],
   "source": [
    "# Search Sort "
   ]
  },
  {
   "cell_type": "code",
   "execution_count": 279,
   "id": "68dbdb14-a96b-4b75-8c58-0977104c01c3",
   "metadata": {},
   "outputs": [
    {
     "name": "stdout",
     "output_type": "stream",
     "text": [
      "6\n"
     ]
    }
   ],
   "source": [
    "a=np.array([1,2,3,4,5,6,8,8,8,8,9])\n",
    "ss=np.searchsorted(a,8)\n",
    "print(ss)"
   ]
  },
  {
   "cell_type": "code",
   "execution_count": 281,
   "id": "a1522c48-e2b3-4170-a575-bda755e729a0",
   "metadata": {},
   "outputs": [
    {
     "name": "stdout",
     "output_type": "stream",
     "text": [
      "[5 6 6]\n"
     ]
    }
   ],
   "source": [
    "a=np.array([1,2,3,4,5,6,8,8,8,8,9])\n",
    "ss=np.searchsorted(a,[5,6,7],side=\"right\")\n",
    "print(ss)"
   ]
  },
  {
   "cell_type": "code",
   "execution_count": 282,
   "id": "83cce81b-e8e8-443d-b0b1-1ee3458059d2",
   "metadata": {},
   "outputs": [],
   "source": [
    "# sort"
   ]
  },
  {
   "cell_type": "code",
   "execution_count": 283,
   "id": "702ed121-ebcc-472c-9d63-4edbf6fbdeaa",
   "metadata": {},
   "outputs": [
    {
     "data": {
      "text/plain": [
       "array([  0,   1,   4,   6,   8,  11,  23,  34,  34,  55,  56, 456, 654])"
      ]
     },
     "execution_count": 283,
     "metadata": {},
     "output_type": "execute_result"
    }
   ],
   "source": [
    "a=np.array([1,11,34,654,23,8,0,56,34,456,6,4,55])\n",
    "np.sort(a)"
   ]
  },
  {
   "cell_type": "code",
   "execution_count": 284,
   "id": "add56d78-1879-4a0b-9348-2a5fd7c2aba4",
   "metadata": {},
   "outputs": [
    {
     "data": {
      "text/plain": [
       "array(['a', 'o', 's', 's', 'sdff', 't', 'v'], dtype='<U4')"
      ]
     },
     "execution_count": 284,
     "metadata": {},
     "output_type": "execute_result"
    }
   ],
   "source": [
    "a=np.array(['s','sdff','s','a','t','v','o'])\n",
    "np.sort(a)"
   ]
  },
  {
   "cell_type": "code",
   "execution_count": 285,
   "id": "e7e1c7b6-7fd2-4b48-9794-b137af9373ca",
   "metadata": {},
   "outputs": [
    {
     "data": {
      "text/plain": [
       "array([[  1,   8,  11,  23,  34, 654],\n",
       "       [  4,   6,  34,  55,  56, 456]])"
      ]
     },
     "execution_count": 285,
     "metadata": {},
     "output_type": "execute_result"
    }
   ],
   "source": [
    "a=np.array([[1,11,34,654,23,8],[56,34,456,6,4,55]])\n",
    "np.sort(a)"
   ]
  },
  {
   "cell_type": "code",
   "execution_count": 286,
   "id": "b5bd582f-eeef-41bc-bfe1-adb0ebdb6546",
   "metadata": {},
   "outputs": [
    {
     "data": {
      "text/plain": [
       "array([[  1,  11,  34],\n",
       "       [  8,  23, 654],\n",
       "       [ 34,  56, 456],\n",
       "       [  4,   6,  55]])"
      ]
     },
     "execution_count": 286,
     "metadata": {},
     "output_type": "execute_result"
    }
   ],
   "source": [
    "a=np.array([[1,11,34],[654,23,8],[56,34,456],[6,4,55]])\n",
    "np.sort(a)"
   ]
  },
  {
   "cell_type": "code",
   "execution_count": 287,
   "id": "2841afba-36ec-426b-96d2-9b2db9184f88",
   "metadata": {},
   "outputs": [],
   "source": [
    "# Filter"
   ]
  },
  {
   "cell_type": "code",
   "execution_count": 291,
   "id": "fe6ed016-e852-4981-a306-a04ca6ad877b",
   "metadata": {},
   "outputs": [
    {
     "name": "stdout",
     "output_type": "stream",
     "text": [
      "[1 3 5 7]\n"
     ]
    }
   ],
   "source": [
    "a=np.array([1,2,3,4,5,6,7,7,8,6])\n",
    "filter=[True,False,True,False,True,False,True,False,False,False]\n",
    "f=a[filter]\n",
    "print(f)"
   ]
  },
  {
   "cell_type": "code",
   "execution_count": 297,
   "id": "3c69e8eb-2258-4be9-bde5-8a1aa86e9a69",
   "metadata": {},
   "outputs": [
    {
     "name": "stdout",
     "output_type": "stream",
     "text": [
      "[          2           6           3 22222222223           3          54]\n"
     ]
    }
   ],
   "source": [
    "a=np.array([2,3,54,6,3,22222222223])\n",
    "np.random.shuffle(a)\n",
    "print(a)"
   ]
  },
  {
   "cell_type": "code",
   "execution_count": 300,
   "id": "ae078bf8-5a52-42bb-a2bc-4dc7da8c1756",
   "metadata": {},
   "outputs": [
    {
     "name": "stdout",
     "output_type": "stream",
     "text": [
      "(array([ 1,  2,  3,  4,  5, 12]), array([ 0,  1,  2,  3,  4, 14], dtype=int64), array([1, 5, 4, 4, 1, 1], dtype=int64))\n"
     ]
    }
   ],
   "source": [
    "a=np.array([1,2,3,4,5,4,3,2,2,3,2,2,3,4,12,4])\n",
    "x=np.unique(a,return_index=True,return_counts=True)\n",
    "print(x)"
   ]
  },
  {
   "cell_type": "code",
   "execution_count": 307,
   "id": "3160d7e7-a4cc-48f7-8bae-25f26845ade9",
   "metadata": {},
   "outputs": [
    {
     "name": "stdout",
     "output_type": "stream",
     "text": [
      "[[1 2 3]\n",
      " [4 5 6]\n",
      " [7 8 9]]\n",
      "[[1 2 3 4 5 6 7 8 9]]\n",
      "[[1]\n",
      " [2]\n",
      " [3]\n",
      " [4]\n",
      " [5]\n",
      " [6]\n",
      " [7]\n",
      " [8]\n",
      " [9]]\n"
     ]
    }
   ],
   "source": [
    "a=np.array([1,2,3,4,5,6,7,8,9])\n",
    "y=np.resize(a,(3,3))\n",
    "print(y)\n",
    "y=np.resize(a,(1,9))\n",
    "print(y)\n",
    "y=np.resize(a,(9,1))\n",
    "print(y)\n"
   ]
  },
  {
   "cell_type": "code",
   "execution_count": 314,
   "id": "eade6275-ed3b-42da-a1ae-5413d270a294",
   "metadata": {},
   "outputs": [
    {
     "name": "stdout",
     "output_type": "stream",
     "text": [
      "[[1 2 3]\n",
      " [4 5 6]\n",
      " [7 8 9]]\n",
      "\n",
      "[1 4 7 2 5 8 3 6 9]\n",
      "[1 2 3 4 5 6 7 8 9]\n",
      "[1 4 7 2 5 8 3 6 9]\n"
     ]
    }
   ],
   "source": [
    " a=np.array([1,2,3,4,5,6,7,8,9])\n",
    "y=np.resize(a,(3,3))\n",
    "print(y)\n",
    "print()\n",
    "print(y.flatten('F'))\n",
    "print(y.flatten('C'))\n",
    "print(np.ravel(y,order=\"F\"))"
   ]
  },
  {
   "cell_type": "code",
   "execution_count": 318,
   "id": "174cb041-b1f5-42d6-98d7-59fa174b496f",
   "metadata": {},
   "outputs": [
    {
     "name": "stdout",
     "output_type": "stream",
     "text": [
      "[ 1  2  3  4  5  6  7 89  6]\n",
      "int32\n",
      "[ 1  2  3 43  4  5  6 43  7 89  6]\n"
     ]
    }
   ],
   "source": [
    "a=np.array([1,2,3,4,5,6,7,89,6])\n",
    "print(a)\n",
    "print(a.dtype)\n",
    "v=np.insert(a,(6,3),43)    # only accept integer values\n",
    "print(v)"
   ]
  },
  {
   "cell_type": "code",
   "execution_count": 330,
   "id": "0aec8f52-2885-44fb-91d5-69694b642ca1",
   "metadata": {},
   "outputs": [
    {
     "name": "stdout",
     "output_type": "stream",
     "text": [
      "[[1 2 3]\n",
      " [5 4 3]\n",
      " [2 3 4]]\n",
      "[[1 2 4 3]\n",
      " [2 3 4 4]]\n"
     ]
    }
   ],
   "source": [
    "a2=np.array([[1,2,3],[2,3,4]])\n",
    "v2=np.insert(a2,1,[5,4,3],axis=0)\n",
    "print(v2)\n",
    "v2=np.insert(a2,2,4,axis=1)\n",
    "print(v2)"
   ]
  },
  {
   "cell_type": "code",
   "execution_count": 332,
   "id": "1e4c4d76-6c56-4b34-9716-43d048bf4c6f",
   "metadata": {},
   "outputs": [
    {
     "name": "stdout",
     "output_type": "stream",
     "text": [
      "[1 2 3 2 3 4]\n",
      "[1.  2.  3.  2.  3.  4.  4.5]\n"
     ]
    }
   ],
   "source": [
    "a2=np.array([1,2,3,2,3,4])\n",
    "print(a2)\n",
    "x=np.append(a2,4.5)\n",
    "print(x)"
   ]
  },
  {
   "cell_type": "code",
   "execution_count": 336,
   "id": "47d37504-9d24-4e8d-bb8a-b1848698768d",
   "metadata": {},
   "outputs": [
    {
     "name": "stdout",
     "output_type": "stream",
     "text": [
      "[[1 2 3]\n",
      " [2 3 4]]\n",
      "[[ 1  2  3]\n",
      " [ 2  3  4]\n",
      " [22 33 44]]\n"
     ]
    }
   ],
   "source": [
    "a2=np.array([[1,2,3],[2,3,4]])\n",
    "print(a2)\n",
    "x=np.append(a2,[[22,33,44]],axis=0)\n",
    "print(x)\n",
    " "
   ]
  },
  {
   "cell_type": "code",
   "execution_count": 340,
   "id": "55c90d81-5748-4ac0-8790-0567323c3ba9",
   "metadata": {},
   "outputs": [
    {
     "name": "stdout",
     "output_type": "stream",
     "text": [
      "[1 2 3 2 3 4]\n",
      "[1 2 3 4]\n"
     ]
    }
   ],
   "source": [
    "a2=np.array([1,2,3,2,3,4])\n",
    "print(a2)\n",
    "x=np.delete(a2,[2,3],axis=0)\n",
    "print(x)\n",
    " "
   ]
  },
  {
   "cell_type": "code",
   "execution_count": null,
   "id": "7e980d7d-7f37-4ec3-b91a-ad3fb7bf646a",
   "metadata": {},
   "outputs": [],
   "source": []
  },
  {
   "cell_type": "code",
   "execution_count": null,
   "id": "bbe92665-8f6f-4122-84cb-83558df1fbc9",
   "metadata": {},
   "outputs": [],
   "source": []
  },
  {
   "cell_type": "code",
   "execution_count": null,
   "id": "3d10f69f-2206-4742-ae95-741f4a2eaa7f",
   "metadata": {},
   "outputs": [],
   "source": []
  },
  {
   "cell_type": "code",
   "execution_count": null,
   "id": "f596a6a7-7f5a-4a11-9e76-cd79642f972b",
   "metadata": {},
   "outputs": [],
   "source": []
  },
  {
   "cell_type": "code",
   "execution_count": null,
   "id": "31bafc06-fa62-429b-8a75-8198df077cd5",
   "metadata": {},
   "outputs": [],
   "source": []
  },
  {
   "cell_type": "code",
   "execution_count": null,
   "id": "975cb046-f03f-4304-93ad-bf32d5756ede",
   "metadata": {},
   "outputs": [],
   "source": []
  },
  {
   "cell_type": "code",
   "execution_count": null,
   "id": "eaace2d1-d063-43cb-946d-ffd6d3d723ac",
   "metadata": {},
   "outputs": [],
   "source": []
  }
 ],
 "metadata": {
  "kernelspec": {
   "display_name": "Python 3 (ipykernel)",
   "language": "python",
   "name": "python3"
  },
  "language_info": {
   "codemirror_mode": {
    "name": "ipython",
    "version": 3
   },
   "file_extension": ".py",
   "mimetype": "text/x-python",
   "name": "python",
   "nbconvert_exporter": "python",
   "pygments_lexer": "ipython3",
   "version": "3.12.0"
  }
 },
 "nbformat": 4,
 "nbformat_minor": 5
}
